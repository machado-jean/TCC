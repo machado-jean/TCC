{
 "cells": [
  {
   "cell_type": "markdown",
   "metadata": {},
   "source": [
    "# 📈 Comparação de Modelos: Recursivo vs Seq2Seq para Previsão de Carga Energética"
   ]
  },
  {
   "cell_type": "code",
   "execution_count": null,
   "metadata": {},
   "outputs": [],
   "source": [
    "import pandas as pd\n",
    "import numpy as np\n",
    "import time\n",
    "from sklearn.preprocessing import MinMaxScaler\n",
    "from keras.models import Sequential\n",
    "from keras.layers import LSTM, Dense, RepeatVector, TimeDistributed\n",
    "from sklearn.metrics import mean_absolute_error, mean_squared_error\n",
    "\n",
    "# Carregar dados\n",
    "df = pd.read_csv(\"../data/curva_carga_ho_2000_2025.csv\", index_col=0, parse_dates=True)\n",
    "col = \"Sudeste\"\n",
    "data = df[[col]]\n",
    "scaler = MinMaxScaler()\n",
    "scaled = scaler.fit_transform(data)\n"
   ]
  },
  {
   "cell_type": "markdown",
   "metadata": {},
   "source": [
    "## 🔁 Modelo Recursivo (24h entrada → 1h saída, repetido 24x)"
   ]
  },
  {
   "cell_type": "code",
   "execution_count": null,
   "metadata": {},
   "outputs": [],
   "source": [
    "# Preparar dados\n",
    "X_rec, y_rec = [], []\n",
    "for i in range(len(scaled) - 24):\n",
    "    X_rec.append(scaled[i:i+24])\n",
    "    y_rec.append(scaled[i+24])\n",
    "X_rec, y_rec = np.array(X_rec), np.array(y_rec)\n",
    "X_rec = X_rec.reshape((X_rec.shape[0], 24, 1))\n",
    "\n",
    "# Treinar modelo\n",
    "model_rec = Sequential([\n",
    "    LSTM(64, input_shape=(24,1)),\n",
    "    Dense(1)\n",
    "])\n",
    "model_rec.compile(optimizer='adam', loss='mse')\n",
    "start_train_rec = time.time()\n",
    "model_rec.fit(X_rec, y_rec, epochs=20, batch_size=32, verbose=1)  # type: ignore\n",
    "end_train_rec = time.time()\n",
    "print(f\"⏱️ Tempo de treino: {end_train_rec - start_train_rec:.2f} segundos\")\n",
    "\n",
    "# Previsão recursiva\n",
    "last_sequence = scaled[-24:].reshape(1, 24, 1)\n",
    "preds = []\n",
    "start_pred_rec = time.time()\n",
    "for _ in range(24):\n",
    "    pred = model_rec.predict(last_sequence, verbose=1)[0,0]  # type: ignore\n",
    "    preds.append(pred)\n",
    "    last_sequence = np.append(last_sequence[:,1:,:], [[[pred]]], axis=1)\n",
    "end_pred_rec = time.time()\n",
    "print(f\"⏱️ Tempo de previsão: {end_pred_rec - start_pred_rec:.4f} segundos\")\n",
    "preds_inv = scaler.inverse_transform(np.array(preds).reshape(-1,1)).flatten()\n",
    "print(preds_inv)\n"
   ]
  },
  {
   "cell_type": "markdown",
   "metadata": {},
   "source": [
    "## 📦 Modelo Seq2Seq (24h entrada → 24h saída)"
   ]
  },
  {
   "cell_type": "code",
   "execution_count": null,
   "metadata": {},
   "outputs": [],
   "source": [
    "# Preparar dados seq2seq\n",
    "X_seq, y_seq = [], []\n",
    "for i in range(len(scaled) - 48):\n",
    "    X_seq.append(scaled[i:i+24])\n",
    "    y_seq.append(scaled[i+24:i+48])\n",
    "X_seq = np.array(X_seq)\n",
    "y_seq = np.array(y_seq)\n",
    "X_seq = X_seq.reshape((X_seq.shape[0], 24, 1))\n",
    "y_seq = y_seq.reshape((y_seq.shape[0], 24, 1))\n",
    "\n",
    "# Treinar modelo Seq2Seq\n",
    "model_seq = Sequential([\n",
    "    LSTM(64, input_shape=(24,1)),\n",
    "    RepeatVector(24),\n",
    "    LSTM(64, return_sequences=True),\n",
    "    TimeDistributed(Dense(1))\n",
    "])\n",
    "model_seq.compile(optimizer='adam', loss='mse')\n",
    "start_train = time.time()\n",
    "model_seq.fit(X_seq, y_seq, epochs=20, batch_size=32, verbose=1)  # type: ignore\n",
    "end_train = time.time()\n",
    "print(f\"⏱️ Tempo de treino: {end_train - start_train:.2f} segundos\")\n",
    "\n",
    "# Previsão seq2seq\n",
    "input_seq = scaled[-48:-24].reshape(1, 24, 1)\n",
    "start_pred_seq = time.time()\n",
    "pred_seq = model_seq.predict(input_seq, verbose=1).reshape(24)  # type: ignore\n",
    "end_pred_seq = time.time()\n",
    "print(f\"⏱️ Tempo de previsão: {end_pred_seq - start_pred_seq:.4f} segundos\")\n",
    "pred_seq_inv = scaler.inverse_transform(pred_seq.reshape(-1, 1)).flatten()\n",
    "print(pred_seq_inv)\n"
   ]
  },
  {
   "cell_type": "markdown",
   "metadata": {},
   "source": [
    "## 📊 Comparação das Métricas"
   ]
  },
  {
   "cell_type": "code",
   "execution_count": null,
   "metadata": {},
   "outputs": [],
   "source": [
    "# Valores reais\n",
    "y_true = data[col].iloc[-24:].values\n",
    "\n",
    "# Função de avaliação\n",
    "def calcular_metricas(y_true, y_pred, nome_modelo):\n",
    "    mae = mean_absolute_error(y_true, y_pred)\n",
    "    mse = mean_squared_error(y_true, y_pred)\n",
    "    rmse = np.sqrt(mse)\n",
    "    mape = np.mean(np.abs((y_true - y_pred) / np.where(y_true == 0, 1e-10, y_true))) * 100\n",
    "    print(f\"\\n📊 Métricas para o modelo: {nome_modelo}\")\n",
    "    print(f\"MAE :  {mae:.2f}\")\n",
    "    print(f\"MSE :  {mse:.2f}\")\n",
    "    print(f\"RMSE:  {rmse:.2f}\")\n",
    "    print(f\"MAPE:  {mape:.2f}%\")\n",
    "\n",
    "# Avaliação\n",
    "calcular_metricas(y_true, preds_inv, \"Recursivo\")\n",
    "calcular_metricas(y_true, pred_seq_inv, \"Seq2Seq\")\n"
   ]
  }
 ],
 "metadata": {
  "kernelspec": {
   "display_name": "Python 3",
   "language": "python",
   "name": "python3"
  },
  "language_info": {
   "name": "python"
  }
 },
 "nbformat": 4,
 "nbformat_minor": 5
}
