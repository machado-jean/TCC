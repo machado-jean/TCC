{
 "cells": [
  {
   "cell_type": "code",
   "execution_count": null,
   "metadata": {},
   "outputs": [],
   "source": [
    "# Importe as bibliotecas necessárias\n",
    "import pandas as pd\n",
    "import holidays\n",
    "import numpy as np\n",
    "import matplotlib.pyplot as plt\n",
    "import optuna\n",
    "import plotly.graph_objects as go\n",
    "import plotly.io as pio\n",
    "import seaborn as sns\n",
    "from statsmodels.tsa.seasonal import seasonal_decompose\n",
    "import warnings\n",
    "warnings.simplefilter(action='ignore', category=FutureWarning)\n",
    "from sklearn.metrics import mean_squared_error, mean_absolute_error\n",
    "\n",
    "from prophet import Prophet"
   ]
  },
  {
   "cell_type": "code",
   "execution_count": null,
   "metadata": {},
   "outputs": [],
   "source": [
    "# Carregue os dados\n",
    "data = pd.read_csv('../TCC/datasets/demanda.csv')\n",
    "data['Timestamp'] = pd.to_datetime(data['Timestamp'])\n",
    "data = data.set_index('Timestamp').asfreq('H')\n",
    "\n",
    "# Defina a coluna alvo\n",
    "target = 'kVA fornecido'"
   ]
  },
  {
   "cell_type": "code",
   "execution_count": null,
   "metadata": {},
   "outputs": [],
   "source": [
    "# Removendo a coluna 'Dia' \n",
    "data = data.drop(['Dia','Holiday'], axis=1)\n",
    "\n",
    "# Ajustando Posto horários para inteiro\n",
    "data['Postos horários'] = data['Postos horários'].astype(int)"
   ]
  },
  {
   "cell_type": "code",
   "execution_count": null,
   "metadata": {},
   "outputs": [],
   "source": [
    "# Criando as colunas de data e hora\n",
    "data['Hour'] = data.index.hour\n",
    "data['Day'] = data.index.day\n",
    "data['Dayofweek'] = data.index.dayofweek\n",
    "data['Month'] = data.index.month\n",
    "data['Quarter'] = data.index.quarter\n",
    "data['Year'] = data.index.year\n",
    "# Criando a coluna 'Holiday' com os feriados brasileiros\n",
    "br_holidays = holidays.Brazil(years=data.index.year.unique())\n",
    "data['Holiday'] = data.index.map(lambda x: x in br_holidays).astype(int)"
   ]
  },
  {
   "cell_type": "code",
   "execution_count": null,
   "metadata": {},
   "outputs": [],
   "source": [
    "# Movendo os últimos 24 dados (1 dia) para serem usados como dados de validação da previsão\n",
    "df_forecast = data.iloc[-24:]\n",
    "data = data.iloc[:-24]"
   ]
  },
  {
   "cell_type": "code",
   "execution_count": null,
   "metadata": {},
   "outputs": [],
   "source": [
    "columns = ['kVA fornecido', 'kW fornecido', 'kvar indutivo']\n",
    "\n",
    "f, axes = plt.subplots(nrows=3, ncols=1, figsize=(18, 10))\n",
    "f.suptitle('Potência média diária', weight='bold', fontsize=18)\n",
    "\n",
    "for i, col in enumerate(columns):\n",
    "    sns.boxplot(data=data, x='Hour', y=col, ax=axes.flatten()[i], palette='Set1')"
   ]
  },
  {
   "cell_type": "code",
   "execution_count": null,
   "metadata": {},
   "outputs": [],
   "source": [
    "columns = ['kVA fornecido', 'kW fornecido', 'kvar indutivo']\n",
    "\n",
    "f, axes = plt.subplots(nrows=3, ncols=1, figsize=(18, 10))\n",
    "f.suptitle('Potência média mensal', weight='bold', fontsize=18)\n",
    "\n",
    "for i, col in enumerate(columns):\n",
    "    sns.stripplot(data=data, x='Day', y=col, ax=axes.flatten()[i], palette='Set1')"
   ]
  },
  {
   "cell_type": "code",
   "execution_count": null,
   "metadata": {},
   "outputs": [],
   "source": [
    "columns = ['kVA fornecido', 'kW fornecido', 'kvar indutivo']\n",
    "\n",
    "f, axes = plt.subplots(nrows=3, ncols=1, figsize=(18, 10))\n",
    "f.suptitle('Potência média anual', weight='bold', fontsize=18)\n",
    "\n",
    "for i, col in enumerate(columns):\n",
    "    sns.barplot(data=data, x='Month', y=col, ax=axes.flatten()[i], palette='Set1')"
   ]
  },
  {
   "cell_type": "code",
   "execution_count": null,
   "metadata": {},
   "outputs": [],
   "source": [
    "columns = ['kVA fornecido', 'kW fornecido', 'kvar indutivo']\n",
    "\n",
    "f, axes = plt.subplots(nrows=3, ncols=1, figsize=(18, 10))\n",
    "f.suptitle('Potência média anual', weight='bold', fontsize=18)\n",
    "\n",
    "for i, col in enumerate(columns):\n",
    "    sns.violinplot(data=data, x='Year', y=col, ax=axes.flatten()[i], palette='Set1')"
   ]
  },
  {
   "cell_type": "code",
   "execution_count": null,
   "metadata": {},
   "outputs": [],
   "source": [
    "# Plotando a decomposição da série temporal\n",
    "plt.rcParams['figure.figsize'] = (18, 10)\n",
    "seasonal_decompose(data[target], period=365).plot()\n",
    "plt.show()"
   ]
  },
  {
   "cell_type": "code",
   "execution_count": null,
   "metadata": {},
   "outputs": [],
   "source": [
    "# Before building and training our model, let's split the data into training and testing\n",
    "split_on = '2023-02-01'\n",
    "df_train, df_test = data[data.index < split_on], data[data.index >= split_on]\n",
    "# Split the training data into training and validation, with 20% of the training data set aside for validation\n",
    "valid_split_on = len(df_train) - int(len(df_train) * 0.2)\n",
    "df_train, df_valid = df_train[:valid_split_on], df_train[valid_split_on:]\n",
    "\n",
    "print('Train:\\t', len(df_train))\n",
    "print('Valid:\\t', len(df_valid))\n",
    "print('Test:\\t', len(df_test))\n",
    "print('Forecast:\\t', len(df_forecast))"
   ]
  },
  {
   "cell_type": "code",
   "execution_count": null,
   "metadata": {},
   "outputs": [],
   "source": [
    "plt.figure(figsize=(20,8))\n",
    "df_train[target].plot(label='Training Set')\n",
    "plt.axvline(df_train.index.min(), color='black', ls='--', lw=3)\n",
    "df_valid[target].plot(label='Validation Set')\n",
    "plt.axvline(df_train.index.max(), color='black', ls='--', lw=3)\n",
    "df_test[target].plot(label='Test Set')\n",
    "plt.axvline(split_on, color='black', ls='--', lw=3)\n",
    "df_forecast[target].plot(label='Forecast Set')\n",
    "plt.axvline(df_test.index.max(), color='black', ls='--', lw=3)\n",
    "plt.title('Data Splitting', weight='bold', fontsize=25)\n",
    "plt.legend()"
   ]
  },
  {
   "cell_type": "markdown",
   "metadata": {},
   "source": [
    "# Prophet"
   ]
  },
  {
   "cell_type": "code",
   "execution_count": null,
   "metadata": {},
   "outputs": [],
   "source": [
    "def index_to_column(data):\n",
    "    data = data.reset_index()\n",
    "    data['Timestamp'] = pd.to_datetime(data['Timestamp'])\n",
    "    data = data.sort_values('Timestamp')\n",
    "    data = data.rename(columns={'Timestamp': 'ds', target: 'y'})\n",
    "    data = data[['ds', 'y']]\n",
    "    return data"
   ]
  },
  {
   "cell_type": "code",
   "execution_count": null,
   "metadata": {},
   "outputs": [],
   "source": [
    "prophet_train = index_to_column(df_train)\n",
    "prophet_valid = index_to_column(df_valid)\n",
    "prophet_test = index_to_column(df_test)\n",
    "prophet_forecast = index_to_column(df_forecast)"
   ]
  },
  {
   "cell_type": "code",
   "execution_count": null,
   "metadata": {},
   "outputs": [],
   "source": [
    "# Drop all columns except ds and y\n",
    "prophet_train = prophet_train[['ds', 'y']]\n",
    "prophet_valid = prophet_valid[['ds', 'y']]\n",
    "prophet_test = prophet_test[['ds', 'y']]\n",
    "prophet_forecast = prophet_forecast[['ds', 'y']]"
   ]
  },
  {
   "cell_type": "code",
   "execution_count": null,
   "metadata": {},
   "outputs": [],
   "source": [
    "prophet_model = Prophet(interval_width=0.95)\n",
    "prophet_model.fit(pd.concat([prophet_train, prophet_valid]))\n",
    "prophet_pred = prophet_model.predict(prophet_test[['ds']]) # Keep the dataset format"
   ]
  },
  {
   "cell_type": "code",
   "execution_count": null,
   "metadata": {},
   "outputs": [],
   "source": [
    "mae = round(mean_absolute_error(prophet_test['y'], prophet_pred['yhat']), 3)"
   ]
  },
  {
   "cell_type": "code",
   "execution_count": null,
   "metadata": {},
   "outputs": [],
   "source": [
    "# Crie a figura usando Plotly\n",
    "fig = go.Figure()\n",
    "\n",
    "# Adicione as linhas ao gráfico\n",
    "fig.add_trace(go.Scatter(x=prophet_test['ds'], y=prophet_test['y'], mode='lines', name='Actual'))\n",
    "fig.add_trace(go.Scatter(x=prophet_pred['ds'], y=prophet_pred['yhat'], mode='lines', name='Predicted'))\n",
    "\n",
    "# Atualize o layout do gráfico\n",
    "fig.update_layout(\n",
    "    title=f'Test Forecasting: {mae}',\n",
    "    title_font=dict(size=25),\n",
    "    xaxis=dict(title='X Axis Label'),\n",
    "    yaxis=dict(title='Y Axis Label'),\n",
    "    legend=dict(orientation='h', yanchor='bottom', y=1.02, xanchor='right', x=1),\n",
    ")\n",
    "\n",
    "# Exiba o gráfico\n",
    "fig.show()"
   ]
  },
  {
   "cell_type": "markdown",
   "metadata": {},
   "source": [
    "<h1 style=\"font-family: Trebuchet MS; font-size: 20px; color: #da627d; text-align: left; \"><b>Predict the value for next day</b></h1>"
   ]
  },
  {
   "cell_type": "code",
   "execution_count": null,
   "metadata": {},
   "outputs": [],
   "source": [
    "# This time, we will use all data (train and test) to train our model\n",
    "new_df = index_to_column(data)\n",
    "prophet_model2 = Prophet(interval_width=0.95)\n",
    "prophet_model2.fit(new_df)"
   ]
  },
  {
   "cell_type": "code",
   "execution_count": null,
   "metadata": {},
   "outputs": [],
   "source": [
    "# 1 day to the future (1x24 = 24)\n",
    "future_dates = prophet_model2.make_future_dataframe(periods=24, freq='H')\n",
    "prophet_pred2 = prophet_model2.predict(future_dates)"
   ]
  },
  {
   "cell_type": "code",
   "execution_count": null,
   "metadata": {},
   "outputs": [],
   "source": [
    "# Drop all lines before the first validation date\n",
    "prophet_pred2 = prophet_pred2[prophet_pred2['ds'] >= df_forecast.index[0]]\n",
    "# Reset index to start from 0\n",
    "prophet_pred2 = prophet_pred2.reset_index(drop=True)"
   ]
  },
  {
   "cell_type": "code",
   "execution_count": null,
   "metadata": {},
   "outputs": [],
   "source": [
    "# Crie a figura usando Plotly\n",
    "fig = go.Figure()\n",
    "\n",
    "# Adicione as linhas ao gráfico\n",
    "fig.add_trace(go.Scatter(x=prophet_pred2['ds'], y=prophet_valid['y'], mode='lines', name='Actual'))\n",
    "fig.add_trace(go.Scatter(x=prophet_pred2['ds'], y=prophet_pred2['yhat'], mode='lines', name='Predicted'))\n",
    "fig.add_trace(go.Scatter(x=prophet_pred2['ds'], y=prophet_pred2['yhat_upper'], mode='lines', name='Upper Bound', line=dict(color='rgba(0,0,0,0)')))\n",
    "fig.add_trace(go.Scatter(x=prophet_pred2['ds'], y=prophet_pred2['yhat_lower'], mode='lines', name='Lower Bound', fill='tonexty', line=dict(color='rgba(0,0,0,0)')))\n",
    "\n",
    "# Atualize o layout do gráfico\n",
    "fig.update_layout(\n",
    "    title='Test Forecasting',\n",
    "    title_font=dict(size=25),\n",
    "    xaxis=dict(title='X Axis Label'),\n",
    "    yaxis=dict(title='Y Axis Label'),\n",
    "    legend=dict(orientation='h', yanchor='bottom', y=1.02, xanchor='right', x=1),\n",
    ")\n",
    "\n",
    "# Exiba o gráfico\n",
    "fig.show()"
   ]
  },
  {
   "cell_type": "code",
   "execution_count": null,
   "metadata": {},
   "outputs": [],
   "source": [
    "prophet_model.plot_components(prophet_pred2)\n",
    "plt.show()"
   ]
  },
  {
   "cell_type": "markdown",
   "metadata": {},
   "source": [
    "# Optuna"
   ]
  },
  {
   "cell_type": "code",
   "execution_count": null,
   "metadata": {},
   "outputs": [],
   "source": [
    "import logging\n",
    "prophet_train['cap'] = data[target].max()\n",
    "prophet_train['floor'] = data[target].min()\n",
    "prophet_valid['cap'] = data[target].max()\n",
    "prophet_valid['floor'] = data[target].min()\n",
    "\n",
    "\n",
    "def objective(trial):\n",
    "    params = {\n",
    "        'changepoint_prior_scale': trial.suggest_float('changepoint_prior_scale', 0.005, 5),\n",
    "        'changepoint_range': trial.suggest_float('changepoint_range', 0.8, 0.9),\n",
    "        'seasonality_prior_scale': trial.suggest_float('seasonality_prior_scale', 0.1, 10),\n",
    "        'holidays_prior_scale': trial.suggest_float('holidays_prior_scale', 0.1, 10),\n",
    "        'seasonality_mode': trial.suggest_categorical('seasonality_mode', ['multiplicative', 'additive']),\n",
    "        'growth': trial.suggest_categorical('growth', ['linear', 'logistic']),\n",
    "        'weekly_seasonality': trial.suggest_int('weekly_seasonality', 5, 10),\n",
    "        'yearly_seasonality': trial.suggest_int('yearly_seasonality', 1, 20)\n",
    "    }\n",
    "    logging.getLogger(\"cmdstanpy\").disabled = True #  turn 'cmdstanpy' logs off\n",
    "    m = Prophet(**params)\n",
    "    m.add_country_holidays(country_name='BR')\n",
    "    m.fit(prophet_train)\n",
    "    logging.getLogger(\"cmdstanpy\").disabled = False #  revert original setting\n",
    "    preds = m.predict(prophet_valid[['ds', 'cap', 'floor']])\n",
    "    \n",
    "    mae_score = mean_absolute_error(prophet_valid['y'], preds['yhat'])\n",
    "    return mae_score\n",
    "\n",
    "study = optuna.create_study(direction='minimize')\n",
    "study.optimize(objective, n_trials=100)\n",
    "\n",
    "fig = optuna.visualization.plot_optimization_history(study)\n",
    "fig.show()\n",
    "\n",
    "fig = optuna.visualization.plot_timeline(study)\n",
    "fig.show()\n"
   ]
  },
  {
   "cell_type": "code",
   "execution_count": null,
   "metadata": {},
   "outputs": [],
   "source": [
    "# Obtenha os melhores hiperparâmetros encontrados\n",
    "best_params = study.best_params"
   ]
  },
  {
   "cell_type": "code",
   "execution_count": null,
   "metadata": {},
   "outputs": [],
   "source": [
    "prophet_test['cap'] = data[target].max()\n",
    "prophet_test['floor'] = data[target].min()\n",
    "prophet_model = Prophet(interval_width=0.95, **best_params)\n",
    "prophet_model.fit(pd.concat([prophet_train, prophet_valid]))\n",
    "prophet_pred = prophet_model.predict(prophet_test[['ds', 'cap', 'floor']]) # Keep the dataset format"
   ]
  },
  {
   "cell_type": "code",
   "execution_count": null,
   "metadata": {},
   "outputs": [],
   "source": [
    "mae = round(mean_absolute_error(prophet_test['y'], prophet_pred['yhat']), 3)"
   ]
  },
  {
   "cell_type": "code",
   "execution_count": null,
   "metadata": {},
   "outputs": [],
   "source": [
    "# Crie a figura usando Plotly\n",
    "fig = go.Figure()\n",
    "\n",
    "# Adicione as linhas ao gráfico\n",
    "fig.add_trace(go.Scatter(x=prophet_test['ds'], y=prophet_test['y'], mode='lines', name='Actual'))\n",
    "fig.add_trace(go.Scatter(x=prophet_pred['ds'], y=prophet_pred['yhat'], mode='lines', name='Predicted'))\n",
    "\n",
    "# Atualize o layout do gráfico\n",
    "fig.update_layout(\n",
    "    title=f'Test Forecasting: {mae}',\n",
    "    title_font=dict(size=25),\n",
    "    xaxis=dict(title='X Axis Label'),\n",
    "    yaxis=dict(title='Y Axis Label'),\n",
    "    legend=dict(orientation='h', yanchor='bottom', y=1.02, xanchor='right', x=1),\n",
    ")\n",
    "\n",
    "# Exiba o gráfico\n",
    "fig.show()"
   ]
  },
  {
   "cell_type": "markdown",
   "metadata": {},
   "source": [
    "<h1 style=\"font-family: Trebuchet MS; font-size: 20px; color: #da627d; text-align: left; \"><b>Predict the value for next day</b></h1>"
   ]
  },
  {
   "cell_type": "code",
   "execution_count": null,
   "metadata": {},
   "outputs": [],
   "source": [
    "# This time, we will use all data (train and test) to train our model\n",
    "new_df = index_to_column(data)\n",
    "prophet_model2 = Prophet(interval_width=0.95)\n",
    "prophet_model2.fit(new_df)"
   ]
  },
  {
   "cell_type": "code",
   "execution_count": null,
   "metadata": {},
   "outputs": [],
   "source": [
    "# 1 day to the future (1x24 = 24)\n",
    "future_dates = prophet_model2.make_future_dataframe(periods=24, freq='H')\n",
    "prophet_pred2 = prophet_model2.predict(future_dates)"
   ]
  },
  {
   "cell_type": "code",
   "execution_count": null,
   "metadata": {},
   "outputs": [],
   "source": [
    "# Drop all lines before the first validation date\n",
    "prophet_pred2 = prophet_pred2[prophet_pred2['ds'] >= df_forecast.index[0]]\n",
    "# Reset index to start from 0\n",
    "prophet_pred2 = prophet_pred2.reset_index(drop=True)"
   ]
  },
  {
   "cell_type": "code",
   "execution_count": null,
   "metadata": {},
   "outputs": [],
   "source": [
    "# Crie a figura usando Plotly\n",
    "fig = go.Figure()\n",
    "\n",
    "# Adicione as linhas ao gráfico\n",
    "fig.add_trace(go.Scatter(x=prophet_pred2['ds'], y=prophet_valid['y'], mode='lines', name='Actual'))\n",
    "fig.add_trace(go.Scatter(x=prophet_pred2['ds'], y=prophet_pred2['yhat'], mode='lines', name='Predicted'))\n",
    "fig.add_trace(go.Scatter(x=prophet_pred2['ds'], y=prophet_pred2['yhat_upper'], mode='lines', name='Upper Bound', line=dict(color='rgba(0,0,0,0)')))\n",
    "fig.add_trace(go.Scatter(x=prophet_pred2['ds'], y=prophet_pred2['yhat_lower'], mode='lines', name='Lower Bound', fill='tonexty', line=dict(color='rgba(0,0,0,0)')))\n",
    "\n",
    "# Atualize o layout do gráfico\n",
    "fig.update_layout(\n",
    "    title='Test Forecasting',\n",
    "    title_font=dict(size=25),\n",
    "    xaxis=dict(title='X Axis Label'),\n",
    "    yaxis=dict(title='Y Axis Label'),\n",
    "    legend=dict(orientation='h', yanchor='bottom', y=1.02, xanchor='right', x=1),\n",
    ")\n",
    "\n",
    "# Exiba o gráfico\n",
    "fig.show()"
   ]
  },
  {
   "cell_type": "code",
   "execution_count": null,
   "metadata": {},
   "outputs": [],
   "source": [
    "prophet_model.plot_components(prophet_pred2)\n",
    "plt.show()"
   ]
  }
 ],
 "metadata": {
  "kernelspec": {
   "display_name": "TCC_env",
   "language": "python",
   "name": "python3"
  },
  "language_info": {
   "codemirror_mode": {
    "name": "ipython",
    "version": 3
   },
   "file_extension": ".py",
   "mimetype": "text/x-python",
   "name": "python",
   "nbconvert_exporter": "python",
   "pygments_lexer": "ipython3",
   "version": "3.10.11"
  }
 },
 "nbformat": 4,
 "nbformat_minor": 2
}
