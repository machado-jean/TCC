{
 "cells": [
  {
   "cell_type": "code",
   "execution_count": null,
   "metadata": {},
   "outputs": [],
   "source": [
    "# # Importe as bibliotecas necessárias\n",
    "# import pandas as pd\n",
    "# import holidays\n",
    "# import plotly.express as px\n",
    "# import warnings\n",
    "# warnings.simplefilter(action='ignore', category=FutureWarning)\n",
    "\n",
    "# from pycaret.time_series import *"
   ]
  },
  {
   "cell_type": "code",
   "execution_count": null,
   "metadata": {},
   "outputs": [],
   "source": [
    "# # Carregue os dados\n",
    "# data = pd.read_csv('../TCC/datasets/demanda.csv')\n",
    "# data['Timestamp'] = pd.to_datetime(data['Timestamp'])\n",
    "# data = data.set_index('Timestamp').asfreq('H')\n",
    "\n",
    "# # Defina a coluna alvo\n",
    "# target = 'kVA fornecido'\n",
    "\n",
    "# # Trabalhando com a coluna alvo\n",
    "# data = data[[target]]\n",
    "\n",
    "# # Criando colunas de numéricas\n",
    "# data['Hour'] = data.index.hour\n",
    "# data['Day'] = data.index.day\n",
    "# data['Dayofweek'] = data.index.dayofweek\n",
    "# data['Month'] = data.index.month\n",
    "# data['Quarter'] = data.index.quarter\n",
    "# data['Year'] = data.index.year\n",
    "# br_holidays = holidays.Brazil(years=data.index.year.unique())\n",
    "# data['Holiday'] = data.index.map(lambda x: x in br_holidays).astype(int)\n",
    "\n",
    "# # Lista de colunas numéricas\n",
    "# num_cols = data.columns.drop(target).tolist()\n",
    "\n",
    "# # Movendo os últimos 24 dados (1 dia) para serem usados como dados de validação da previsão\n",
    "# df_forecast = data.iloc[-24:]\n",
    "# data = data.iloc[:-24]\n",
    "\n",
    "# # Separando os dados de treino e teste\n",
    "# slice_point = '2023-02-01'\n",
    "# train = data[data.index < slice_point]\n",
    "# test = data[data.index  >= slice_point]"
   ]
  },
  {
   "cell_type": "markdown",
   "metadata": {},
   "source": [
    "# Pycaret"
   ]
  },
  {
   "cell_type": "code",
   "execution_count": null,
   "metadata": {},
   "outputs": [],
   "source": [
    "# # Inicializando o ambiente\n",
    "# s = setup(data = data, fh=24, session_id=42, log_experiment=True, target=target, experiment_name='kVA fornecido')"
   ]
  },
  {
   "cell_type": "code",
   "execution_count": null,
   "metadata": {},
   "outputs": [],
   "source": [
    "# # import TSForecastingExperiment and init the class\n",
    "# from pycaret.time_series import TSForecastingExperiment\n",
    "# exp = TSForecastingExperiment()"
   ]
  },
  {
   "cell_type": "code",
   "execution_count": null,
   "metadata": {},
   "outputs": [],
   "source": [
    "# # init setup on exp\n",
    "# exp.setup(data = data, fh=24, session_id=42, log_experiment=True, target=target, experiment_name='kVA fornecido')"
   ]
  },
  {
   "cell_type": "code",
   "execution_count": null,
   "metadata": {},
   "outputs": [],
   "source": [
    "# # check statistical tests on original data\n",
    "# check_stats()"
   ]
  },
  {
   "cell_type": "code",
   "execution_count": null,
   "metadata": {},
   "outputs": [],
   "source": [
    "# # compare baseline models\n",
    "# best = compare_models()"
   ]
  },
  {
   "cell_type": "code",
   "execution_count": null,
   "metadata": {},
   "outputs": [],
   "source": [
    "# # compare models using OOP\n",
    "# exp.compare_models()"
   ]
  },
  {
   "cell_type": "code",
   "execution_count": null,
   "metadata": {},
   "outputs": [],
   "source": [
    "# # plot forecast\n",
    "# plot_model(best, plot = 'forecast')"
   ]
  },
  {
   "cell_type": "code",
   "execution_count": null,
   "metadata": {},
   "outputs": [],
   "source": [
    "# # plot forecast for 24 hours in future\n",
    "# plot_model(best, plot = 'forecast', data_kwargs = {'fh' : 24})"
   ]
  },
  {
   "cell_type": "code",
   "execution_count": null,
   "metadata": {},
   "outputs": [],
   "source": [
    "# # residuals plot\n",
    "# plot_model(best, plot = 'residuals')"
   ]
  },
  {
   "cell_type": "code",
   "execution_count": null,
   "metadata": {},
   "outputs": [],
   "source": [
    "# # predict on test set\n",
    "# holdout_pred = predict_model(best)"
   ]
  },
  {
   "cell_type": "code",
   "execution_count": null,
   "metadata": {},
   "outputs": [],
   "source": [
    "# # generate forecast for 24 period in future\n",
    "# predict_model(best, fh = 24)"
   ]
  },
  {
   "cell_type": "markdown",
   "metadata": {},
   "source": [
    "# Pycaret 2"
   ]
  },
  {
   "cell_type": "code",
   "execution_count": null,
   "metadata": {},
   "outputs": [],
   "source": [
    "# Importe as bibliotecas necessárias\n",
    "import pandas as pd\n",
    "import holidays\n",
    "import plotly.express as px\n",
    "import warnings\n",
    "warnings.simplefilter(action='ignore', category=FutureWarning)\n",
    "from pycaret.time_series import *\n",
    "\n",
    "# Carregue os dados\n",
    "data = pd.read_csv('../TCC/datasets/demanda.csv')\n",
    "data['Timestamp'] = pd.to_datetime(data['Timestamp'])\n",
    "data = data.set_index('Timestamp').asfreq('H')\n",
    "\n",
    "# Defina a coluna alvo\n",
    "target = 'kVA fornecido'\n",
    "\n",
    "# Trabalhando com a coluna alvo\n",
    "data = data[[target]]\n",
    "\n",
    "# Criando colunas de numéricas\n",
    "data['Hour'] = data.index.hour\n",
    "data['Day'] = data.index.day\n",
    "data['Dayofweek'] = data.index.dayofweek\n",
    "data['Month'] = data.index.month\n",
    "data['Quarter'] = data.index.quarter\n",
    "data['Year'] = data.index.year\n",
    "br_holidays = holidays.Brazil(years=data.index.year.unique())\n",
    "data['Holiday'] = data.index.map(lambda x: x in br_holidays).astype(int)\n",
    "\n",
    "# Lista de colunas numéricas\n",
    "num_cols = data.columns.drop(target).tolist()\n",
    "\n",
    "# Movendo os últimos 24 dados (1 dia) para serem usados como dados de validação da previsão\n",
    "df_forecast = data.iloc[-24:]\n",
    "data = data.iloc[:-24]"
   ]
  },
  {
   "cell_type": "code",
   "execution_count": 94,
   "metadata": {},
   "outputs": [
    {
     "data": {
      "text/html": [
       "<style type=\"text/css\">\n",
       "#T_767d0_row25_col1 {\n",
       "  background-color: lightgreen;\n",
       "}\n",
       "</style>\n",
       "<table id=\"T_767d0\">\n",
       "  <thead>\n",
       "    <tr>\n",
       "      <th class=\"blank level0\" >&nbsp;</th>\n",
       "      <th id=\"T_767d0_level0_col0\" class=\"col_heading level0 col0\" >Description</th>\n",
       "      <th id=\"T_767d0_level0_col1\" class=\"col_heading level0 col1\" >Value</th>\n",
       "    </tr>\n",
       "  </thead>\n",
       "  <tbody>\n",
       "    <tr>\n",
       "      <th id=\"T_767d0_level0_row0\" class=\"row_heading level0 row0\" >0</th>\n",
       "      <td id=\"T_767d0_row0_col0\" class=\"data row0 col0\" >session_id</td>\n",
       "      <td id=\"T_767d0_row0_col1\" class=\"data row0 col1\" >123</td>\n",
       "    </tr>\n",
       "    <tr>\n",
       "      <th id=\"T_767d0_level0_row1\" class=\"row_heading level0 row1\" >1</th>\n",
       "      <td id=\"T_767d0_row1_col0\" class=\"data row1 col0\" >Target</td>\n",
       "      <td id=\"T_767d0_row1_col1\" class=\"data row1 col1\" >kVA fornecido</td>\n",
       "    </tr>\n",
       "    <tr>\n",
       "      <th id=\"T_767d0_level0_row2\" class=\"row_heading level0 row2\" >2</th>\n",
       "      <td id=\"T_767d0_row2_col0\" class=\"data row2 col0\" >Approach</td>\n",
       "      <td id=\"T_767d0_row2_col1\" class=\"data row2 col1\" >Univariate</td>\n",
       "    </tr>\n",
       "    <tr>\n",
       "      <th id=\"T_767d0_level0_row3\" class=\"row_heading level0 row3\" >3</th>\n",
       "      <td id=\"T_767d0_row3_col0\" class=\"data row3 col0\" >Exogenous Variables</td>\n",
       "      <td id=\"T_767d0_row3_col1\" class=\"data row3 col1\" >Present</td>\n",
       "    </tr>\n",
       "    <tr>\n",
       "      <th id=\"T_767d0_level0_row4\" class=\"row_heading level0 row4\" >4</th>\n",
       "      <td id=\"T_767d0_row4_col0\" class=\"data row4 col0\" >Original data shape</td>\n",
       "      <td id=\"T_767d0_row4_col1\" class=\"data row4 col1\" >(10153, 8)</td>\n",
       "    </tr>\n",
       "    <tr>\n",
       "      <th id=\"T_767d0_level0_row5\" class=\"row_heading level0 row5\" >5</th>\n",
       "      <td id=\"T_767d0_row5_col0\" class=\"data row5 col0\" >Transformed data shape</td>\n",
       "      <td id=\"T_767d0_row5_col1\" class=\"data row5 col1\" >(10153, 8)</td>\n",
       "    </tr>\n",
       "    <tr>\n",
       "      <th id=\"T_767d0_level0_row6\" class=\"row_heading level0 row6\" >6</th>\n",
       "      <td id=\"T_767d0_row6_col0\" class=\"data row6 col0\" >Transformed train set shape</td>\n",
       "      <td id=\"T_767d0_row6_col1\" class=\"data row6 col1\" >(10129, 8)</td>\n",
       "    </tr>\n",
       "    <tr>\n",
       "      <th id=\"T_767d0_level0_row7\" class=\"row_heading level0 row7\" >7</th>\n",
       "      <td id=\"T_767d0_row7_col0\" class=\"data row7 col0\" >Transformed test set shape</td>\n",
       "      <td id=\"T_767d0_row7_col1\" class=\"data row7 col1\" >(24, 8)</td>\n",
       "    </tr>\n",
       "    <tr>\n",
       "      <th id=\"T_767d0_level0_row8\" class=\"row_heading level0 row8\" >8</th>\n",
       "      <td id=\"T_767d0_row8_col0\" class=\"data row8 col0\" >Rows with missing values</td>\n",
       "      <td id=\"T_767d0_row8_col1\" class=\"data row8 col1\" >0.0%</td>\n",
       "    </tr>\n",
       "    <tr>\n",
       "      <th id=\"T_767d0_level0_row9\" class=\"row_heading level0 row9\" >9</th>\n",
       "      <td id=\"T_767d0_row9_col0\" class=\"data row9 col0\" >Fold Generator</td>\n",
       "      <td id=\"T_767d0_row9_col1\" class=\"data row9 col1\" >ExpandingWindowSplitter</td>\n",
       "    </tr>\n",
       "    <tr>\n",
       "      <th id=\"T_767d0_level0_row10\" class=\"row_heading level0 row10\" >10</th>\n",
       "      <td id=\"T_767d0_row10_col0\" class=\"data row10 col0\" >Fold Number</td>\n",
       "      <td id=\"T_767d0_row10_col1\" class=\"data row10 col1\" >5</td>\n",
       "    </tr>\n",
       "    <tr>\n",
       "      <th id=\"T_767d0_level0_row11\" class=\"row_heading level0 row11\" >11</th>\n",
       "      <td id=\"T_767d0_row11_col0\" class=\"data row11 col0\" >Enforce Prediction Interval</td>\n",
       "      <td id=\"T_767d0_row11_col1\" class=\"data row11 col1\" >False</td>\n",
       "    </tr>\n",
       "    <tr>\n",
       "      <th id=\"T_767d0_level0_row12\" class=\"row_heading level0 row12\" >12</th>\n",
       "      <td id=\"T_767d0_row12_col0\" class=\"data row12 col0\" >Splits used for hyperparameters</td>\n",
       "      <td id=\"T_767d0_row12_col1\" class=\"data row12 col1\" >all</td>\n",
       "    </tr>\n",
       "    <tr>\n",
       "      <th id=\"T_767d0_level0_row13\" class=\"row_heading level0 row13\" >13</th>\n",
       "      <td id=\"T_767d0_row13_col0\" class=\"data row13 col0\" >User Defined Seasonal Period(s)</td>\n",
       "      <td id=\"T_767d0_row13_col1\" class=\"data row13 col1\" >24</td>\n",
       "    </tr>\n",
       "    <tr>\n",
       "      <th id=\"T_767d0_level0_row14\" class=\"row_heading level0 row14\" >14</th>\n",
       "      <td id=\"T_767d0_row14_col0\" class=\"data row14 col0\" >Ignore Seasonality Test</td>\n",
       "      <td id=\"T_767d0_row14_col1\" class=\"data row14 col1\" >False</td>\n",
       "    </tr>\n",
       "    <tr>\n",
       "      <th id=\"T_767d0_level0_row15\" class=\"row_heading level0 row15\" >15</th>\n",
       "      <td id=\"T_767d0_row15_col0\" class=\"data row15 col0\" >Seasonality Detection Algo</td>\n",
       "      <td id=\"T_767d0_row15_col1\" class=\"data row15 col1\" >user_defined</td>\n",
       "    </tr>\n",
       "    <tr>\n",
       "      <th id=\"T_767d0_level0_row16\" class=\"row_heading level0 row16\" >16</th>\n",
       "      <td id=\"T_767d0_row16_col0\" class=\"data row16 col0\" >Max Period to Consider</td>\n",
       "      <td id=\"T_767d0_row16_col1\" class=\"data row16 col1\" >60</td>\n",
       "    </tr>\n",
       "    <tr>\n",
       "      <th id=\"T_767d0_level0_row17\" class=\"row_heading level0 row17\" >17</th>\n",
       "      <td id=\"T_767d0_row17_col0\" class=\"data row17 col0\" >Seasonal Period(s) Tested</td>\n",
       "      <td id=\"T_767d0_row17_col1\" class=\"data row17 col1\" >[24]</td>\n",
       "    </tr>\n",
       "    <tr>\n",
       "      <th id=\"T_767d0_level0_row18\" class=\"row_heading level0 row18\" >18</th>\n",
       "      <td id=\"T_767d0_row18_col0\" class=\"data row18 col0\" >Significant Seasonal Period(s)</td>\n",
       "      <td id=\"T_767d0_row18_col1\" class=\"data row18 col1\" >[24]</td>\n",
       "    </tr>\n",
       "    <tr>\n",
       "      <th id=\"T_767d0_level0_row19\" class=\"row_heading level0 row19\" >19</th>\n",
       "      <td id=\"T_767d0_row19_col0\" class=\"data row19 col0\" >Significant Seasonal Period(s) without Harmonics</td>\n",
       "      <td id=\"T_767d0_row19_col1\" class=\"data row19 col1\" >[24]</td>\n",
       "    </tr>\n",
       "    <tr>\n",
       "      <th id=\"T_767d0_level0_row20\" class=\"row_heading level0 row20\" >20</th>\n",
       "      <td id=\"T_767d0_row20_col0\" class=\"data row20 col0\" >Remove Harmonics</td>\n",
       "      <td id=\"T_767d0_row20_col1\" class=\"data row20 col1\" >False</td>\n",
       "    </tr>\n",
       "    <tr>\n",
       "      <th id=\"T_767d0_level0_row21\" class=\"row_heading level0 row21\" >21</th>\n",
       "      <td id=\"T_767d0_row21_col0\" class=\"data row21 col0\" >Harmonics Order Method</td>\n",
       "      <td id=\"T_767d0_row21_col1\" class=\"data row21 col1\" >harmonic_max</td>\n",
       "    </tr>\n",
       "    <tr>\n",
       "      <th id=\"T_767d0_level0_row22\" class=\"row_heading level0 row22\" >22</th>\n",
       "      <td id=\"T_767d0_row22_col0\" class=\"data row22 col0\" >Num Seasonalities to Use</td>\n",
       "      <td id=\"T_767d0_row22_col1\" class=\"data row22 col1\" >1</td>\n",
       "    </tr>\n",
       "    <tr>\n",
       "      <th id=\"T_767d0_level0_row23\" class=\"row_heading level0 row23\" >23</th>\n",
       "      <td id=\"T_767d0_row23_col0\" class=\"data row23 col0\" >All Seasonalities to Use</td>\n",
       "      <td id=\"T_767d0_row23_col1\" class=\"data row23 col1\" >[24]</td>\n",
       "    </tr>\n",
       "    <tr>\n",
       "      <th id=\"T_767d0_level0_row24\" class=\"row_heading level0 row24\" >24</th>\n",
       "      <td id=\"T_767d0_row24_col0\" class=\"data row24 col0\" >Primary Seasonality</td>\n",
       "      <td id=\"T_767d0_row24_col1\" class=\"data row24 col1\" >24</td>\n",
       "    </tr>\n",
       "    <tr>\n",
       "      <th id=\"T_767d0_level0_row25\" class=\"row_heading level0 row25\" >25</th>\n",
       "      <td id=\"T_767d0_row25_col0\" class=\"data row25 col0\" >Seasonality Present</td>\n",
       "      <td id=\"T_767d0_row25_col1\" class=\"data row25 col1\" >True</td>\n",
       "    </tr>\n",
       "    <tr>\n",
       "      <th id=\"T_767d0_level0_row26\" class=\"row_heading level0 row26\" >26</th>\n",
       "      <td id=\"T_767d0_row26_col0\" class=\"data row26 col0\" >Seasonality Type</td>\n",
       "      <td id=\"T_767d0_row26_col1\" class=\"data row26 col1\" >add</td>\n",
       "    </tr>\n",
       "    <tr>\n",
       "      <th id=\"T_767d0_level0_row27\" class=\"row_heading level0 row27\" >27</th>\n",
       "      <td id=\"T_767d0_row27_col0\" class=\"data row27 col0\" >Target Strictly Positive</td>\n",
       "      <td id=\"T_767d0_row27_col1\" class=\"data row27 col1\" >False</td>\n",
       "    </tr>\n",
       "    <tr>\n",
       "      <th id=\"T_767d0_level0_row28\" class=\"row_heading level0 row28\" >28</th>\n",
       "      <td id=\"T_767d0_row28_col0\" class=\"data row28 col0\" >Target White Noise</td>\n",
       "      <td id=\"T_767d0_row28_col1\" class=\"data row28 col1\" >No</td>\n",
       "    </tr>\n",
       "    <tr>\n",
       "      <th id=\"T_767d0_level0_row29\" class=\"row_heading level0 row29\" >29</th>\n",
       "      <td id=\"T_767d0_row29_col0\" class=\"data row29 col0\" >Recommended d</td>\n",
       "      <td id=\"T_767d0_row29_col1\" class=\"data row29 col1\" >1</td>\n",
       "    </tr>\n",
       "    <tr>\n",
       "      <th id=\"T_767d0_level0_row30\" class=\"row_heading level0 row30\" >30</th>\n",
       "      <td id=\"T_767d0_row30_col0\" class=\"data row30 col0\" >Recommended Seasonal D</td>\n",
       "      <td id=\"T_767d0_row30_col1\" class=\"data row30 col1\" >0</td>\n",
       "    </tr>\n",
       "    <tr>\n",
       "      <th id=\"T_767d0_level0_row31\" class=\"row_heading level0 row31\" >31</th>\n",
       "      <td id=\"T_767d0_row31_col0\" class=\"data row31 col0\" >Preprocess</td>\n",
       "      <td id=\"T_767d0_row31_col1\" class=\"data row31 col1\" >False</td>\n",
       "    </tr>\n",
       "    <tr>\n",
       "      <th id=\"T_767d0_level0_row32\" class=\"row_heading level0 row32\" >32</th>\n",
       "      <td id=\"T_767d0_row32_col0\" class=\"data row32 col0\" >CPU Jobs</td>\n",
       "      <td id=\"T_767d0_row32_col1\" class=\"data row32 col1\" >-1</td>\n",
       "    </tr>\n",
       "    <tr>\n",
       "      <th id=\"T_767d0_level0_row33\" class=\"row_heading level0 row33\" >33</th>\n",
       "      <td id=\"T_767d0_row33_col0\" class=\"data row33 col0\" >Use GPU</td>\n",
       "      <td id=\"T_767d0_row33_col1\" class=\"data row33 col1\" >False</td>\n",
       "    </tr>\n",
       "    <tr>\n",
       "      <th id=\"T_767d0_level0_row34\" class=\"row_heading level0 row34\" >34</th>\n",
       "      <td id=\"T_767d0_row34_col0\" class=\"data row34 col0\" >Log Experiment</td>\n",
       "      <td id=\"T_767d0_row34_col1\" class=\"data row34 col1\" >False</td>\n",
       "    </tr>\n",
       "    <tr>\n",
       "      <th id=\"T_767d0_level0_row35\" class=\"row_heading level0 row35\" >35</th>\n",
       "      <td id=\"T_767d0_row35_col0\" class=\"data row35 col0\" >Experiment Name</td>\n",
       "      <td id=\"T_767d0_row35_col1\" class=\"data row35 col1\" >ts-default-name</td>\n",
       "    </tr>\n",
       "    <tr>\n",
       "      <th id=\"T_767d0_level0_row36\" class=\"row_heading level0 row36\" >36</th>\n",
       "      <td id=\"T_767d0_row36_col0\" class=\"data row36 col0\" >USI</td>\n",
       "      <td id=\"T_767d0_row36_col1\" class=\"data row36 col1\" >284a</td>\n",
       "    </tr>\n",
       "  </tbody>\n",
       "</table>\n"
      ],
      "text/plain": [
       "<pandas.io.formats.style.Styler at 0x1886f360d00>"
      ]
     },
     "metadata": {},
     "output_type": "display_data"
    }
   ],
   "source": [
    "# Inicialize o ambiente do PyCaret\n",
    "exp = setup(data, \n",
    "            fh=24,\n",
    "            target=target,\n",
    "            session_id=123, \n",
    "            fold_strategy='expanding', \n",
    "            fold=5,\n",
    "            seasonal_period=24,\n",
    "            seasonality_type='auto',\n",
    "            )"
   ]
  },
  {
   "cell_type": "code",
   "execution_count": 95,
   "metadata": {},
   "outputs": [
    {
     "data": {
      "text/html": [],
      "text/plain": [
       "<IPython.core.display.HTML object>"
      ]
     },
     "metadata": {},
     "output_type": "display_data"
    },
    {
     "data": {
      "text/html": [
       "<style type=\"text/css\">\n",
       "#T_e21c8 th {\n",
       "  text-align: left;\n",
       "}\n",
       "#T_e21c8_row0_col0, #T_e21c8_row0_col5, #T_e21c8_row1_col0, #T_e21c8_row1_col1, #T_e21c8_row1_col2, #T_e21c8_row1_col3, #T_e21c8_row1_col4, #T_e21c8_row1_col5, #T_e21c8_row1_col6, #T_e21c8_row1_col7, #T_e21c8_row2_col0, #T_e21c8_row2_col1, #T_e21c8_row2_col2, #T_e21c8_row2_col3, #T_e21c8_row2_col4, #T_e21c8_row2_col5, #T_e21c8_row2_col6, #T_e21c8_row2_col7, #T_e21c8_row3_col0, #T_e21c8_row3_col1, #T_e21c8_row3_col2, #T_e21c8_row3_col3, #T_e21c8_row3_col4, #T_e21c8_row3_col5, #T_e21c8_row3_col6, #T_e21c8_row3_col7, #T_e21c8_row4_col0, #T_e21c8_row4_col1, #T_e21c8_row4_col2, #T_e21c8_row4_col3, #T_e21c8_row4_col4, #T_e21c8_row4_col5, #T_e21c8_row4_col6, #T_e21c8_row4_col7, #T_e21c8_row5_col0, #T_e21c8_row5_col1, #T_e21c8_row5_col2, #T_e21c8_row5_col3, #T_e21c8_row5_col4, #T_e21c8_row5_col5, #T_e21c8_row5_col6, #T_e21c8_row5_col7, #T_e21c8_row6_col0, #T_e21c8_row6_col1, #T_e21c8_row6_col2, #T_e21c8_row6_col3, #T_e21c8_row6_col4, #T_e21c8_row6_col5, #T_e21c8_row6_col6, #T_e21c8_row6_col7, #T_e21c8_row7_col0, #T_e21c8_row7_col1, #T_e21c8_row7_col2, #T_e21c8_row7_col3, #T_e21c8_row7_col4, #T_e21c8_row7_col5, #T_e21c8_row7_col6, #T_e21c8_row7_col7, #T_e21c8_row8_col0, #T_e21c8_row8_col1, #T_e21c8_row8_col2, #T_e21c8_row8_col3, #T_e21c8_row8_col4, #T_e21c8_row8_col5, #T_e21c8_row8_col6, #T_e21c8_row8_col7, #T_e21c8_row9_col0, #T_e21c8_row9_col1, #T_e21c8_row9_col2, #T_e21c8_row9_col3, #T_e21c8_row9_col4, #T_e21c8_row9_col5, #T_e21c8_row9_col6, #T_e21c8_row9_col7, #T_e21c8_row10_col0, #T_e21c8_row10_col1, #T_e21c8_row10_col2, #T_e21c8_row10_col3, #T_e21c8_row10_col4, #T_e21c8_row10_col5, #T_e21c8_row10_col6, #T_e21c8_row10_col7, #T_e21c8_row11_col0, #T_e21c8_row11_col1, #T_e21c8_row11_col2, #T_e21c8_row11_col3, #T_e21c8_row11_col4, #T_e21c8_row11_col5, #T_e21c8_row11_col6, #T_e21c8_row11_col7, #T_e21c8_row12_col0, #T_e21c8_row12_col1, #T_e21c8_row12_col2, #T_e21c8_row12_col3, #T_e21c8_row12_col4, #T_e21c8_row12_col5, #T_e21c8_row12_col6, #T_e21c8_row12_col7, #T_e21c8_row13_col0, #T_e21c8_row13_col1, #T_e21c8_row13_col2, #T_e21c8_row13_col3, #T_e21c8_row13_col4, #T_e21c8_row13_col5, #T_e21c8_row13_col6, #T_e21c8_row13_col7, #T_e21c8_row14_col0, #T_e21c8_row14_col1, #T_e21c8_row14_col2, #T_e21c8_row14_col3, #T_e21c8_row14_col4, #T_e21c8_row14_col5, #T_e21c8_row14_col6, #T_e21c8_row14_col7, #T_e21c8_row15_col0, #T_e21c8_row15_col1, #T_e21c8_row15_col2, #T_e21c8_row15_col3, #T_e21c8_row15_col4, #T_e21c8_row15_col5, #T_e21c8_row15_col6, #T_e21c8_row15_col7, #T_e21c8_row16_col0, #T_e21c8_row16_col1, #T_e21c8_row16_col2, #T_e21c8_row16_col3, #T_e21c8_row16_col4, #T_e21c8_row16_col6, #T_e21c8_row16_col7, #T_e21c8_row17_col0, #T_e21c8_row17_col1, #T_e21c8_row17_col2, #T_e21c8_row17_col3, #T_e21c8_row17_col4, #T_e21c8_row17_col5, #T_e21c8_row17_col6, #T_e21c8_row17_col7, #T_e21c8_row18_col0, #T_e21c8_row18_col1, #T_e21c8_row18_col2, #T_e21c8_row18_col3, #T_e21c8_row18_col4, #T_e21c8_row18_col5, #T_e21c8_row18_col6, #T_e21c8_row18_col7, #T_e21c8_row19_col0, #T_e21c8_row19_col1, #T_e21c8_row19_col2, #T_e21c8_row19_col3, #T_e21c8_row19_col4, #T_e21c8_row19_col5, #T_e21c8_row19_col6, #T_e21c8_row19_col7, #T_e21c8_row20_col0, #T_e21c8_row20_col1, #T_e21c8_row20_col2, #T_e21c8_row20_col3, #T_e21c8_row20_col4, #T_e21c8_row20_col5, #T_e21c8_row20_col6, #T_e21c8_row20_col7, #T_e21c8_row21_col0, #T_e21c8_row21_col1, #T_e21c8_row21_col2, #T_e21c8_row21_col3, #T_e21c8_row21_col4, #T_e21c8_row21_col5, #T_e21c8_row21_col6, #T_e21c8_row21_col7, #T_e21c8_row22_col0, #T_e21c8_row22_col1, #T_e21c8_row22_col2, #T_e21c8_row22_col3, #T_e21c8_row22_col4, #T_e21c8_row22_col5, #T_e21c8_row22_col6, #T_e21c8_row22_col7, #T_e21c8_row23_col0, #T_e21c8_row23_col1, #T_e21c8_row23_col2, #T_e21c8_row23_col3, #T_e21c8_row23_col4, #T_e21c8_row23_col5, #T_e21c8_row23_col6, #T_e21c8_row23_col7 {\n",
       "  text-align: left;\n",
       "}\n",
       "#T_e21c8_row0_col1, #T_e21c8_row0_col2, #T_e21c8_row0_col3, #T_e21c8_row0_col4, #T_e21c8_row0_col6, #T_e21c8_row0_col7, #T_e21c8_row16_col5 {\n",
       "  text-align: left;\n",
       "  background-color: yellow;\n",
       "}\n",
       "#T_e21c8_row0_col8, #T_e21c8_row1_col8, #T_e21c8_row2_col8, #T_e21c8_row4_col8, #T_e21c8_row5_col8, #T_e21c8_row6_col8, #T_e21c8_row7_col8, #T_e21c8_row8_col8, #T_e21c8_row9_col8, #T_e21c8_row10_col8, #T_e21c8_row11_col8, #T_e21c8_row12_col8, #T_e21c8_row13_col8, #T_e21c8_row14_col8, #T_e21c8_row15_col8, #T_e21c8_row16_col8, #T_e21c8_row17_col8, #T_e21c8_row18_col8, #T_e21c8_row19_col8, #T_e21c8_row20_col8, #T_e21c8_row21_col8, #T_e21c8_row22_col8, #T_e21c8_row23_col8 {\n",
       "  text-align: left;\n",
       "  background-color: lightgrey;\n",
       "}\n",
       "#T_e21c8_row3_col8 {\n",
       "  text-align: left;\n",
       "  background-color: yellow;\n",
       "  background-color: lightgrey;\n",
       "}\n",
       "</style>\n",
       "<table id=\"T_e21c8\">\n",
       "  <thead>\n",
       "    <tr>\n",
       "      <th class=\"blank level0\" >&nbsp;</th>\n",
       "      <th id=\"T_e21c8_level0_col0\" class=\"col_heading level0 col0\" >Model</th>\n",
       "      <th id=\"T_e21c8_level0_col1\" class=\"col_heading level0 col1\" >MASE</th>\n",
       "      <th id=\"T_e21c8_level0_col2\" class=\"col_heading level0 col2\" >RMSSE</th>\n",
       "      <th id=\"T_e21c8_level0_col3\" class=\"col_heading level0 col3\" >MAE</th>\n",
       "      <th id=\"T_e21c8_level0_col4\" class=\"col_heading level0 col4\" >RMSE</th>\n",
       "      <th id=\"T_e21c8_level0_col5\" class=\"col_heading level0 col5\" >MAPE</th>\n",
       "      <th id=\"T_e21c8_level0_col6\" class=\"col_heading level0 col6\" >SMAPE</th>\n",
       "      <th id=\"T_e21c8_level0_col7\" class=\"col_heading level0 col7\" >R2</th>\n",
       "      <th id=\"T_e21c8_level0_col8\" class=\"col_heading level0 col8\" >TT (Sec)</th>\n",
       "    </tr>\n",
       "  </thead>\n",
       "  <tbody>\n",
       "    <tr>\n",
       "      <th id=\"T_e21c8_level0_row0\" class=\"row_heading level0 row0\" >catboost_cds_dt</th>\n",
       "      <td id=\"T_e21c8_row0_col0\" class=\"data row0 col0\" >CatBoost Regressor w/ Cond. Deseasonalize & Detrending</td>\n",
       "      <td id=\"T_e21c8_row0_col1\" class=\"data row0 col1\" >0.4217</td>\n",
       "      <td id=\"T_e21c8_row0_col2\" class=\"data row0 col2\" >0.3388</td>\n",
       "      <td id=\"T_e21c8_row0_col3\" class=\"data row0 col3\" >256.5366</td>\n",
       "      <td id=\"T_e21c8_row0_col4\" class=\"data row0 col4\" >327.0801</td>\n",
       "      <td id=\"T_e21c8_row0_col5\" class=\"data row0 col5\" >0.4091</td>\n",
       "      <td id=\"T_e21c8_row0_col6\" class=\"data row0 col6\" >0.1972</td>\n",
       "      <td id=\"T_e21c8_row0_col7\" class=\"data row0 col7\" >-0.3641</td>\n",
       "      <td id=\"T_e21c8_row0_col8\" class=\"data row0 col8\" >3.8480</td>\n",
       "    </tr>\n",
       "    <tr>\n",
       "      <th id=\"T_e21c8_level0_row1\" class=\"row_heading level0 row1\" >xgboost_cds_dt</th>\n",
       "      <td id=\"T_e21c8_row1_col0\" class=\"data row1 col0\" >Extreme Gradient Boosting w/ Cond. Deseasonalize & Detrending</td>\n",
       "      <td id=\"T_e21c8_row1_col1\" class=\"data row1 col1\" >0.5087</td>\n",
       "      <td id=\"T_e21c8_row1_col2\" class=\"data row1 col2\" >0.4196</td>\n",
       "      <td id=\"T_e21c8_row1_col3\" class=\"data row1 col3\" >309.4788</td>\n",
       "      <td id=\"T_e21c8_row1_col4\" class=\"data row1 col4\" >405.1298</td>\n",
       "      <td id=\"T_e21c8_row1_col5\" class=\"data row1 col5\" >0.5194</td>\n",
       "      <td id=\"T_e21c8_row1_col6\" class=\"data row1 col6\" >0.2363</td>\n",
       "      <td id=\"T_e21c8_row1_col7\" class=\"data row1 col7\" >-1.3508</td>\n",
       "      <td id=\"T_e21c8_row1_col8\" class=\"data row1 col8\" >0.6260</td>\n",
       "    </tr>\n",
       "    <tr>\n",
       "      <th id=\"T_e21c8_level0_row2\" class=\"row_heading level0 row2\" >gbr_cds_dt</th>\n",
       "      <td id=\"T_e21c8_row2_col0\" class=\"data row2 col0\" >Gradient Boosting w/ Cond. Deseasonalize & Detrending</td>\n",
       "      <td id=\"T_e21c8_row2_col1\" class=\"data row2 col1\" >0.5786</td>\n",
       "      <td id=\"T_e21c8_row2_col2\" class=\"data row2 col2\" >0.4599</td>\n",
       "      <td id=\"T_e21c8_row2_col3\" class=\"data row2 col3\" >351.9221</td>\n",
       "      <td id=\"T_e21c8_row2_col4\" class=\"data row2 col4\" >443.9774</td>\n",
       "      <td id=\"T_e21c8_row2_col5\" class=\"data row2 col5\" >0.4625</td>\n",
       "      <td id=\"T_e21c8_row2_col6\" class=\"data row2 col6\" >0.2441</td>\n",
       "      <td id=\"T_e21c8_row2_col7\" class=\"data row2 col7\" >-1.4854</td>\n",
       "      <td id=\"T_e21c8_row2_col8\" class=\"data row2 col8\" >3.5780</td>\n",
       "    </tr>\n",
       "    <tr>\n",
       "      <th id=\"T_e21c8_level0_row3\" class=\"row_heading level0 row3\" >croston</th>\n",
       "      <td id=\"T_e21c8_row3_col0\" class=\"data row3 col0\" >Croston</td>\n",
       "      <td id=\"T_e21c8_row3_col1\" class=\"data row3 col1\" >0.5436</td>\n",
       "      <td id=\"T_e21c8_row3_col2\" class=\"data row3 col2\" >0.4644</td>\n",
       "      <td id=\"T_e21c8_row3_col3\" class=\"data row3 col3\" >330.4543</td>\n",
       "      <td id=\"T_e21c8_row3_col4\" class=\"data row3 col4\" >448.0281</td>\n",
       "      <td id=\"T_e21c8_row3_col5\" class=\"data row3 col5\" >0.9300</td>\n",
       "      <td id=\"T_e21c8_row3_col6\" class=\"data row3 col6\" >0.2380</td>\n",
       "      <td id=\"T_e21c8_row3_col7\" class=\"data row3 col7\" >-0.4829</td>\n",
       "      <td id=\"T_e21c8_row3_col8\" class=\"data row3 col8\" >0.0420</td>\n",
       "    </tr>\n",
       "    <tr>\n",
       "      <th id=\"T_e21c8_level0_row4\" class=\"row_heading level0 row4\" >lr_cds_dt</th>\n",
       "      <td id=\"T_e21c8_row4_col0\" class=\"data row4 col0\" >Linear w/ Cond. Deseasonalize & Detrending</td>\n",
       "      <td id=\"T_e21c8_row4_col1\" class=\"data row4 col1\" >0.5695</td>\n",
       "      <td id=\"T_e21c8_row4_col2\" class=\"data row4 col2\" >0.4644</td>\n",
       "      <td id=\"T_e21c8_row4_col3\" class=\"data row4 col3\" >346.5210</td>\n",
       "      <td id=\"T_e21c8_row4_col4\" class=\"data row4 col4\" >448.4042</td>\n",
       "      <td id=\"T_e21c8_row4_col5\" class=\"data row4 col5\" >0.4548</td>\n",
       "      <td id=\"T_e21c8_row4_col6\" class=\"data row4 col6\" >0.2387</td>\n",
       "      <td id=\"T_e21c8_row4_col7\" class=\"data row4 col7\" >-2.1685</td>\n",
       "      <td id=\"T_e21c8_row4_col8\" class=\"data row4 col8\" >7.2320</td>\n",
       "    </tr>\n",
       "    <tr>\n",
       "      <th id=\"T_e21c8_level0_row5\" class=\"row_heading level0 row5\" >ridge_cds_dt</th>\n",
       "      <td id=\"T_e21c8_row5_col0\" class=\"data row5 col0\" >Ridge w/ Cond. Deseasonalize & Detrending</td>\n",
       "      <td id=\"T_e21c8_row5_col1\" class=\"data row5 col1\" >0.5696</td>\n",
       "      <td id=\"T_e21c8_row5_col2\" class=\"data row5 col2\" >0.4644</td>\n",
       "      <td id=\"T_e21c8_row5_col3\" class=\"data row5 col3\" >346.5524</td>\n",
       "      <td id=\"T_e21c8_row5_col4\" class=\"data row5 col4\" >448.4447</td>\n",
       "      <td id=\"T_e21c8_row5_col5\" class=\"data row5 col5\" >0.4548</td>\n",
       "      <td id=\"T_e21c8_row5_col6\" class=\"data row5 col6\" >0.2387</td>\n",
       "      <td id=\"T_e21c8_row5_col7\" class=\"data row5 col7\" >-2.1688</td>\n",
       "      <td id=\"T_e21c8_row5_col8\" class=\"data row5 col8\" >0.4200</td>\n",
       "    </tr>\n",
       "    <tr>\n",
       "      <th id=\"T_e21c8_level0_row6\" class=\"row_heading level0 row6\" >et_cds_dt</th>\n",
       "      <td id=\"T_e21c8_row6_col0\" class=\"data row6 col0\" >Extra Trees w/ Cond. Deseasonalize & Detrending</td>\n",
       "      <td id=\"T_e21c8_row6_col1\" class=\"data row6 col1\" >0.5811</td>\n",
       "      <td id=\"T_e21c8_row6_col2\" class=\"data row6 col2\" >0.4683</td>\n",
       "      <td id=\"T_e21c8_row6_col3\" class=\"data row6 col3\" >353.4749</td>\n",
       "      <td id=\"T_e21c8_row6_col4\" class=\"data row6 col4\" >452.0410</td>\n",
       "      <td id=\"T_e21c8_row6_col5\" class=\"data row6 col5\" >0.4558</td>\n",
       "      <td id=\"T_e21c8_row6_col6\" class=\"data row6 col6\" >0.2390</td>\n",
       "      <td id=\"T_e21c8_row6_col7\" class=\"data row6 col7\" >-1.4585</td>\n",
       "      <td id=\"T_e21c8_row6_col8\" class=\"data row6 col8\" >1.7180</td>\n",
       "    </tr>\n",
       "    <tr>\n",
       "      <th id=\"T_e21c8_level0_row7\" class=\"row_heading level0 row7\" >lightgbm_cds_dt</th>\n",
       "      <td id=\"T_e21c8_row7_col0\" class=\"data row7 col0\" >Light Gradient Boosting w/ Cond. Deseasonalize & Detrending</td>\n",
       "      <td id=\"T_e21c8_row7_col1\" class=\"data row7 col1\" >0.5743</td>\n",
       "      <td id=\"T_e21c8_row7_col2\" class=\"data row7 col2\" >0.4718</td>\n",
       "      <td id=\"T_e21c8_row7_col3\" class=\"data row7 col3\" >349.3958</td>\n",
       "      <td id=\"T_e21c8_row7_col4\" class=\"data row7 col4\" >455.5068</td>\n",
       "      <td id=\"T_e21c8_row7_col5\" class=\"data row7 col5\" >0.5059</td>\n",
       "      <td id=\"T_e21c8_row7_col6\" class=\"data row7 col6\" >0.2472</td>\n",
       "      <td id=\"T_e21c8_row7_col7\" class=\"data row7 col7\" >-2.0543</td>\n",
       "      <td id=\"T_e21c8_row7_col8\" class=\"data row7 col8\" >1.0520</td>\n",
       "    </tr>\n",
       "    <tr>\n",
       "      <th id=\"T_e21c8_level0_row8\" class=\"row_heading level0 row8\" >knn_cds_dt</th>\n",
       "      <td id=\"T_e21c8_row8_col0\" class=\"data row8 col0\" >K Neighbors w/ Cond. Deseasonalize & Detrending</td>\n",
       "      <td id=\"T_e21c8_row8_col1\" class=\"data row8 col1\" >0.5554</td>\n",
       "      <td id=\"T_e21c8_row8_col2\" class=\"data row8 col2\" >0.4763</td>\n",
       "      <td id=\"T_e21c8_row8_col3\" class=\"data row8 col3\" >337.9390</td>\n",
       "      <td id=\"T_e21c8_row8_col4\" class=\"data row8 col4\" >459.9812</td>\n",
       "      <td id=\"T_e21c8_row8_col5\" class=\"data row8 col5\" >0.4373</td>\n",
       "      <td id=\"T_e21c8_row8_col6\" class=\"data row8 col6\" >0.2638</td>\n",
       "      <td id=\"T_e21c8_row8_col7\" class=\"data row8 col7\" >-3.8014</td>\n",
       "      <td id=\"T_e21c8_row8_col8\" class=\"data row8 col8\" >0.3960</td>\n",
       "    </tr>\n",
       "    <tr>\n",
       "      <th id=\"T_e21c8_level0_row9\" class=\"row_heading level0 row9\" >arima</th>\n",
       "      <td id=\"T_e21c8_row9_col0\" class=\"data row9 col0\" >ARIMA</td>\n",
       "      <td id=\"T_e21c8_row9_col1\" class=\"data row9 col1\" >0.5997</td>\n",
       "      <td id=\"T_e21c8_row9_col2\" class=\"data row9 col2\" >0.4854</td>\n",
       "      <td id=\"T_e21c8_row9_col3\" class=\"data row9 col3\" >364.7746</td>\n",
       "      <td id=\"T_e21c8_row9_col4\" class=\"data row9 col4\" >468.5643</td>\n",
       "      <td id=\"T_e21c8_row9_col5\" class=\"data row9 col5\" >0.5866</td>\n",
       "      <td id=\"T_e21c8_row9_col6\" class=\"data row9 col6\" >0.2689</td>\n",
       "      <td id=\"T_e21c8_row9_col7\" class=\"data row9 col7\" >-1.9520</td>\n",
       "      <td id=\"T_e21c8_row9_col8\" class=\"data row9 col8\" >25.5940</td>\n",
       "    </tr>\n",
       "    <tr>\n",
       "      <th id=\"T_e21c8_level0_row10\" class=\"row_heading level0 row10\" >snaive</th>\n",
       "      <td id=\"T_e21c8_row10_col0\" class=\"data row10 col0\" >Seasonal Naive Forecaster</td>\n",
       "      <td id=\"T_e21c8_row10_col1\" class=\"data row10 col1\" >0.5971</td>\n",
       "      <td id=\"T_e21c8_row10_col2\" class=\"data row10 col2\" >0.4855</td>\n",
       "      <td id=\"T_e21c8_row10_col3\" class=\"data row10 col3\" >363.1290</td>\n",
       "      <td id=\"T_e21c8_row10_col4\" class=\"data row10 col4\" >468.5765</td>\n",
       "      <td id=\"T_e21c8_row10_col5\" class=\"data row10 col5\" >0.6528</td>\n",
       "      <td id=\"T_e21c8_row10_col6\" class=\"data row10 col6\" >0.2628</td>\n",
       "      <td id=\"T_e21c8_row10_col7\" class=\"data row10 col7\" >-1.4858</td>\n",
       "      <td id=\"T_e21c8_row10_col8\" class=\"data row10 col8\" >0.5520</td>\n",
       "    </tr>\n",
       "    <tr>\n",
       "      <th id=\"T_e21c8_level0_row11\" class=\"row_heading level0 row11\" >llar_cds_dt</th>\n",
       "      <td id=\"T_e21c8_row11_col0\" class=\"data row11 col0\" >Lasso Least Angular Regressor w/ Cond. Deseasonalize & Detrending</td>\n",
       "      <td id=\"T_e21c8_row11_col1\" class=\"data row11 col1\" >0.6002</td>\n",
       "      <td id=\"T_e21c8_row11_col2\" class=\"data row11 col2\" >0.4862</td>\n",
       "      <td id=\"T_e21c8_row11_col3\" class=\"data row11 col3\" >365.1884</td>\n",
       "      <td id=\"T_e21c8_row11_col4\" class=\"data row11 col4\" >469.4514</td>\n",
       "      <td id=\"T_e21c8_row11_col5\" class=\"data row11 col5\" >0.4926</td>\n",
       "      <td id=\"T_e21c8_row11_col6\" class=\"data row11 col6\" >0.2463</td>\n",
       "      <td id=\"T_e21c8_row11_col7\" class=\"data row11 col7\" >-2.3267</td>\n",
       "      <td id=\"T_e21c8_row11_col8\" class=\"data row11 col8\" >0.3420</td>\n",
       "    </tr>\n",
       "    <tr>\n",
       "      <th id=\"T_e21c8_level0_row12\" class=\"row_heading level0 row12\" >lasso_cds_dt</th>\n",
       "      <td id=\"T_e21c8_row12_col0\" class=\"data row12 col0\" >Lasso w/ Cond. Deseasonalize & Detrending</td>\n",
       "      <td id=\"T_e21c8_row12_col1\" class=\"data row12 col1\" >0.6002</td>\n",
       "      <td id=\"T_e21c8_row12_col2\" class=\"data row12 col2\" >0.4862</td>\n",
       "      <td id=\"T_e21c8_row12_col3\" class=\"data row12 col3\" >365.1884</td>\n",
       "      <td id=\"T_e21c8_row12_col4\" class=\"data row12 col4\" >469.4514</td>\n",
       "      <td id=\"T_e21c8_row12_col5\" class=\"data row12 col5\" >0.4926</td>\n",
       "      <td id=\"T_e21c8_row12_col6\" class=\"data row12 col6\" >0.2463</td>\n",
       "      <td id=\"T_e21c8_row12_col7\" class=\"data row12 col7\" >-2.3267</td>\n",
       "      <td id=\"T_e21c8_row12_col8\" class=\"data row12 col8\" >0.3840</td>\n",
       "    </tr>\n",
       "    <tr>\n",
       "      <th id=\"T_e21c8_level0_row13\" class=\"row_heading level0 row13\" >stlf</th>\n",
       "      <td id=\"T_e21c8_row13_col0\" class=\"data row13 col0\" >STLF</td>\n",
       "      <td id=\"T_e21c8_row13_col1\" class=\"data row13 col1\" >0.5746</td>\n",
       "      <td id=\"T_e21c8_row13_col2\" class=\"data row13 col2\" >0.4906</td>\n",
       "      <td id=\"T_e21c8_row13_col3\" class=\"data row13 col3\" >349.4236</td>\n",
       "      <td id=\"T_e21c8_row13_col4\" class=\"data row13 col4\" >473.4824</td>\n",
       "      <td id=\"T_e21c8_row13_col5\" class=\"data row13 col5\" >0.7659</td>\n",
       "      <td id=\"T_e21c8_row13_col6\" class=\"data row13 col6\" >0.2575</td>\n",
       "      <td id=\"T_e21c8_row13_col7\" class=\"data row13 col7\" >-1.4584</td>\n",
       "      <td id=\"T_e21c8_row13_col8\" class=\"data row13 col8\" >0.4480</td>\n",
       "    </tr>\n",
       "    <tr>\n",
       "      <th id=\"T_e21c8_level0_row14\" class=\"row_heading level0 row14\" >naive</th>\n",
       "      <td id=\"T_e21c8_row14_col0\" class=\"data row14 col0\" >Naive Forecaster</td>\n",
       "      <td id=\"T_e21c8_row14_col1\" class=\"data row14 col1\" >0.6119</td>\n",
       "      <td id=\"T_e21c8_row14_col2\" class=\"data row14 col2\" >0.4978</td>\n",
       "      <td id=\"T_e21c8_row14_col3\" class=\"data row14 col3\" >371.9554</td>\n",
       "      <td id=\"T_e21c8_row14_col4\" class=\"data row14 col4\" >480.2063</td>\n",
       "      <td id=\"T_e21c8_row14_col5\" class=\"data row14 col5\" >0.9939</td>\n",
       "      <td id=\"T_e21c8_row14_col6\" class=\"data row14 col6\" >0.2565</td>\n",
       "      <td id=\"T_e21c8_row14_col7\" class=\"data row14 col7\" >-0.7089</td>\n",
       "      <td id=\"T_e21c8_row14_col8\" class=\"data row14 col8\" >0.8680</td>\n",
       "    </tr>\n",
       "    <tr>\n",
       "      <th id=\"T_e21c8_level0_row15\" class=\"row_heading level0 row15\" >en_cds_dt</th>\n",
       "      <td id=\"T_e21c8_row15_col0\" class=\"data row15 col0\" >Elastic Net w/ Cond. Deseasonalize & Detrending</td>\n",
       "      <td id=\"T_e21c8_row15_col1\" class=\"data row15 col1\" >0.6343</td>\n",
       "      <td id=\"T_e21c8_row15_col2\" class=\"data row15 col2\" >0.5118</td>\n",
       "      <td id=\"T_e21c8_row15_col3\" class=\"data row15 col3\" >385.8833</td>\n",
       "      <td id=\"T_e21c8_row15_col4\" class=\"data row15 col4\" >494.1456</td>\n",
       "      <td id=\"T_e21c8_row15_col5\" class=\"data row15 col5\" >0.5364</td>\n",
       "      <td id=\"T_e21c8_row15_col6\" class=\"data row15 col6\" >0.2564</td>\n",
       "      <td id=\"T_e21c8_row15_col7\" class=\"data row15 col7\" >-2.4953</td>\n",
       "      <td id=\"T_e21c8_row15_col8\" class=\"data row15 col8\" >0.4440</td>\n",
       "    </tr>\n",
       "    <tr>\n",
       "      <th id=\"T_e21c8_level0_row16\" class=\"row_heading level0 row16\" >dt_cds_dt</th>\n",
       "      <td id=\"T_e21c8_row16_col0\" class=\"data row16 col0\" >Decision Tree w/ Cond. Deseasonalize & Detrending</td>\n",
       "      <td id=\"T_e21c8_row16_col1\" class=\"data row16 col1\" >0.6641</td>\n",
       "      <td id=\"T_e21c8_row16_col2\" class=\"data row16 col2\" >0.5181</td>\n",
       "      <td id=\"T_e21c8_row16_col3\" class=\"data row16 col3\" >403.9631</td>\n",
       "      <td id=\"T_e21c8_row16_col4\" class=\"data row16 col4\" >500.1612</td>\n",
       "      <td id=\"T_e21c8_row16_col5\" class=\"data row16 col5\" >0.3906</td>\n",
       "      <td id=\"T_e21c8_row16_col6\" class=\"data row16 col6\" >0.3598</td>\n",
       "      <td id=\"T_e21c8_row16_col7\" class=\"data row16 col7\" >-2.3139</td>\n",
       "      <td id=\"T_e21c8_row16_col8\" class=\"data row16 col8\" >0.4020</td>\n",
       "    </tr>\n",
       "    <tr>\n",
       "      <th id=\"T_e21c8_level0_row17\" class=\"row_heading level0 row17\" >auto_arima</th>\n",
       "      <td id=\"T_e21c8_row17_col0\" class=\"data row17 col0\" >Auto ARIMA</td>\n",
       "      <td id=\"T_e21c8_row17_col1\" class=\"data row17 col1\" >0.6642</td>\n",
       "      <td id=\"T_e21c8_row17_col2\" class=\"data row17 col2\" >0.5298</td>\n",
       "      <td id=\"T_e21c8_row17_col3\" class=\"data row17 col3\" >403.7679</td>\n",
       "      <td id=\"T_e21c8_row17_col4\" class=\"data row17 col4\" >511.1245</td>\n",
       "      <td id=\"T_e21c8_row17_col5\" class=\"data row17 col5\" >1.0610</td>\n",
       "      <td id=\"T_e21c8_row17_col6\" class=\"data row17 col6\" >0.2698</td>\n",
       "      <td id=\"T_e21c8_row17_col7\" class=\"data row17 col7\" >-1.0435</td>\n",
       "      <td id=\"T_e21c8_row17_col8\" class=\"data row17 col8\" >52.6160</td>\n",
       "    </tr>\n",
       "    <tr>\n",
       "      <th id=\"T_e21c8_level0_row18\" class=\"row_heading level0 row18\" >br_cds_dt</th>\n",
       "      <td id=\"T_e21c8_row18_col0\" class=\"data row18 col0\" >Bayesian Ridge w/ Cond. Deseasonalize & Detrending</td>\n",
       "      <td id=\"T_e21c8_row18_col1\" class=\"data row18 col1\" >0.7425</td>\n",
       "      <td id=\"T_e21c8_row18_col2\" class=\"data row18 col2\" >0.6014</td>\n",
       "      <td id=\"T_e21c8_row18_col3\" class=\"data row18 col3\" >451.5915</td>\n",
       "      <td id=\"T_e21c8_row18_col4\" class=\"data row18 col4\" >580.5610</td>\n",
       "      <td id=\"T_e21c8_row18_col5\" class=\"data row18 col5\" >0.6870</td>\n",
       "      <td id=\"T_e21c8_row18_col6\" class=\"data row18 col6\" >0.2930</td>\n",
       "      <td id=\"T_e21c8_row18_col7\" class=\"data row18 col7\" >-3.0045</td>\n",
       "      <td id=\"T_e21c8_row18_col8\" class=\"data row18 col8\" >0.3140</td>\n",
       "    </tr>\n",
       "    <tr>\n",
       "      <th id=\"T_e21c8_level0_row19\" class=\"row_heading level0 row19\" >huber_cds_dt</th>\n",
       "      <td id=\"T_e21c8_row19_col0\" class=\"data row19 col0\" >Huber w/ Cond. Deseasonalize & Detrending</td>\n",
       "      <td id=\"T_e21c8_row19_col1\" class=\"data row19 col1\" >0.7776</td>\n",
       "      <td id=\"T_e21c8_row19_col2\" class=\"data row19 col2\" >0.6067</td>\n",
       "      <td id=\"T_e21c8_row19_col3\" class=\"data row19 col3\" >472.9853</td>\n",
       "      <td id=\"T_e21c8_row19_col4\" class=\"data row19 col4\" >585.6364</td>\n",
       "      <td id=\"T_e21c8_row19_col5\" class=\"data row19 col5\" >0.6630</td>\n",
       "      <td id=\"T_e21c8_row19_col6\" class=\"data row19 col6\" >0.3128</td>\n",
       "      <td id=\"T_e21c8_row19_col7\" class=\"data row19 col7\" >-3.2003</td>\n",
       "      <td id=\"T_e21c8_row19_col8\" class=\"data row19 col8\" >0.4000</td>\n",
       "    </tr>\n",
       "    <tr>\n",
       "      <th id=\"T_e21c8_level0_row20\" class=\"row_heading level0 row20\" >ada_cds_dt</th>\n",
       "      <td id=\"T_e21c8_row20_col0\" class=\"data row20 col0\" >AdaBoost w/ Cond. Deseasonalize & Detrending</td>\n",
       "      <td id=\"T_e21c8_row20_col1\" class=\"data row20 col1\" >0.8464</td>\n",
       "      <td id=\"T_e21c8_row20_col2\" class=\"data row20 col2\" >0.6233</td>\n",
       "      <td id=\"T_e21c8_row20_col3\" class=\"data row20 col3\" >514.8321</td>\n",
       "      <td id=\"T_e21c8_row20_col4\" class=\"data row20 col4\" >601.6970</td>\n",
       "      <td id=\"T_e21c8_row20_col5\" class=\"data row20 col5\" >0.6931</td>\n",
       "      <td id=\"T_e21c8_row20_col6\" class=\"data row20 col6\" >0.3432</td>\n",
       "      <td id=\"T_e21c8_row20_col7\" class=\"data row20 col7\" >-3.2678</td>\n",
       "      <td id=\"T_e21c8_row20_col8\" class=\"data row20 col8\" >0.8240</td>\n",
       "    </tr>\n",
       "    <tr>\n",
       "      <th id=\"T_e21c8_level0_row21\" class=\"row_heading level0 row21\" >rf_cds_dt</th>\n",
       "      <td id=\"T_e21c8_row21_col0\" class=\"data row21 col0\" >Random Forest w/ Cond. Deseasonalize & Detrending</td>\n",
       "      <td id=\"T_e21c8_row21_col1\" class=\"data row21 col1\" >0.8295</td>\n",
       "      <td id=\"T_e21c8_row21_col2\" class=\"data row21 col2\" >0.6676</td>\n",
       "      <td id=\"T_e21c8_row21_col3\" class=\"data row21 col3\" >504.4291</td>\n",
       "      <td id=\"T_e21c8_row21_col4\" class=\"data row21 col4\" >644.3722</td>\n",
       "      <td id=\"T_e21c8_row21_col5\" class=\"data row21 col5\" >0.7907</td>\n",
       "      <td id=\"T_e21c8_row21_col6\" class=\"data row21 col6\" >0.3092</td>\n",
       "      <td id=\"T_e21c8_row21_col7\" class=\"data row21 col7\" >-2.7551</td>\n",
       "      <td id=\"T_e21c8_row21_col8\" class=\"data row21 col8\" >7.0600</td>\n",
       "    </tr>\n",
       "    <tr>\n",
       "      <th id=\"T_e21c8_level0_row22\" class=\"row_heading level0 row22\" >omp_cds_dt</th>\n",
       "      <td id=\"T_e21c8_row22_col0\" class=\"data row22 col0\" >Orthogonal Matching Pursuit w/ Cond. Deseasonalize & Detrending</td>\n",
       "      <td id=\"T_e21c8_row22_col1\" class=\"data row22 col1\" >0.8551</td>\n",
       "      <td id=\"T_e21c8_row22_col2\" class=\"data row22 col2\" >0.6687</td>\n",
       "      <td id=\"T_e21c8_row22_col3\" class=\"data row22 col3\" >520.0434</td>\n",
       "      <td id=\"T_e21c8_row22_col4\" class=\"data row22 col4\" >645.4280</td>\n",
       "      <td id=\"T_e21c8_row22_col5\" class=\"data row22 col5\" >0.7831</td>\n",
       "      <td id=\"T_e21c8_row22_col6\" class=\"data row22 col6\" >0.3232</td>\n",
       "      <td id=\"T_e21c8_row22_col7\" class=\"data row22 col7\" >-3.5152</td>\n",
       "      <td id=\"T_e21c8_row22_col8\" class=\"data row22 col8\" >0.3120</td>\n",
       "    </tr>\n",
       "    <tr>\n",
       "      <th id=\"T_e21c8_level0_row23\" class=\"row_heading level0 row23\" >grand_means</th>\n",
       "      <td id=\"T_e21c8_row23_col0\" class=\"data row23 col0\" >Grand Means Forecaster</td>\n",
       "      <td id=\"T_e21c8_row23_col1\" class=\"data row23 col1\" >2.8349</td>\n",
       "      <td id=\"T_e21c8_row23_col2\" class=\"data row23 col2\" >1.8307</td>\n",
       "      <td id=\"T_e21c8_row23_col3\" class=\"data row23 col3\" >1723.8772</td>\n",
       "      <td id=\"T_e21c8_row23_col4\" class=\"data row23 col4\" >1766.7568</td>\n",
       "      <td id=\"T_e21c8_row23_col5\" class=\"data row23 col5\" >2.6733</td>\n",
       "      <td id=\"T_e21c8_row23_col6\" class=\"data row23 col6\" >0.7258</td>\n",
       "      <td id=\"T_e21c8_row23_col7\" class=\"data row23 col7\" >-28.8974</td>\n",
       "      <td id=\"T_e21c8_row23_col8\" class=\"data row23 col8\" >0.6740</td>\n",
       "    </tr>\n",
       "  </tbody>\n",
       "</table>\n"
      ],
      "text/plain": [
       "<pandas.io.formats.style.Styler at 0x1886f58c250>"
      ]
     },
     "metadata": {},
     "output_type": "display_data"
    },
    {
     "data": {
      "text/html": [],
      "text/plain": [
       "<IPython.core.display.HTML object>"
      ]
     },
     "metadata": {},
     "output_type": "display_data"
    }
   ],
   "source": [
    "# Compare modelos\n",
    "best = compare_models(fold=5, sort='RMSE', n_select=1)"
   ]
  },
  {
   "cell_type": "code",
   "execution_count": 96,
   "metadata": {},
   "outputs": [
    {
     "data": {
      "text/html": [],
      "text/plain": [
       "<IPython.core.display.HTML object>"
      ]
     },
     "metadata": {},
     "output_type": "display_data"
    },
    {
     "data": {
      "text/html": [
       "<style type=\"text/css\">\n",
       "#T_2c947_row5_col0, #T_2c947_row5_col1, #T_2c947_row5_col2, #T_2c947_row5_col3, #T_2c947_row5_col4, #T_2c947_row5_col5, #T_2c947_row5_col6, #T_2c947_row5_col7 {\n",
       "  background: yellow;\n",
       "}\n",
       "</style>\n",
       "<table id=\"T_2c947\">\n",
       "  <thead>\n",
       "    <tr>\n",
       "      <th class=\"blank level0\" >&nbsp;</th>\n",
       "      <th id=\"T_2c947_level0_col0\" class=\"col_heading level0 col0\" >cutoff</th>\n",
       "      <th id=\"T_2c947_level0_col1\" class=\"col_heading level0 col1\" >MASE</th>\n",
       "      <th id=\"T_2c947_level0_col2\" class=\"col_heading level0 col2\" >RMSSE</th>\n",
       "      <th id=\"T_2c947_level0_col3\" class=\"col_heading level0 col3\" >MAE</th>\n",
       "      <th id=\"T_2c947_level0_col4\" class=\"col_heading level0 col4\" >RMSE</th>\n",
       "      <th id=\"T_2c947_level0_col5\" class=\"col_heading level0 col5\" >MAPE</th>\n",
       "      <th id=\"T_2c947_level0_col6\" class=\"col_heading level0 col6\" >SMAPE</th>\n",
       "      <th id=\"T_2c947_level0_col7\" class=\"col_heading level0 col7\" >R2</th>\n",
       "    </tr>\n",
       "  </thead>\n",
       "  <tbody>\n",
       "    <tr>\n",
       "      <th id=\"T_2c947_level0_row0\" class=\"row_heading level0 row0\" >0</th>\n",
       "      <td id=\"T_2c947_row0_col0\" class=\"data row0 col0\" >2023-02-22 00:00</td>\n",
       "      <td id=\"T_2c947_row0_col1\" class=\"data row0 col1\" >0.5552</td>\n",
       "      <td id=\"T_2c947_row0_col2\" class=\"data row0 col2\" >0.4859</td>\n",
       "      <td id=\"T_2c947_row0_col3\" class=\"data row0 col3\" >338.3742</td>\n",
       "      <td id=\"T_2c947_row0_col4\" class=\"data row0 col4\" >469.8710</td>\n",
       "      <td id=\"T_2c947_row0_col5\" class=\"data row0 col5\" >0.1811</td>\n",
       "      <td id=\"T_2c947_row0_col6\" class=\"data row0 col6\" >0.2182</td>\n",
       "      <td id=\"T_2c947_row0_col7\" class=\"data row0 col7\" >-5.5624</td>\n",
       "    </tr>\n",
       "    <tr>\n",
       "      <th id=\"T_2c947_level0_row1\" class=\"row_heading level0 row1\" >1</th>\n",
       "      <td id=\"T_2c947_row1_col0\" class=\"data row1 col0\" >2023-02-23 00:00</td>\n",
       "      <td id=\"T_2c947_row1_col1\" class=\"data row1 col1\" >0.5937</td>\n",
       "      <td id=\"T_2c947_row1_col2\" class=\"data row1 col2\" >0.4242</td>\n",
       "      <td id=\"T_2c947_row1_col3\" class=\"data row1 col3\" >361.5106</td>\n",
       "      <td id=\"T_2c947_row1_col4\" class=\"data row1 col4\" >409.8935</td>\n",
       "      <td id=\"T_2c947_row1_col5\" class=\"data row1 col5\" >0.1995</td>\n",
       "      <td id=\"T_2c947_row1_col6\" class=\"data row1 col6\" >0.2026</td>\n",
       "      <td id=\"T_2c947_row1_col7\" class=\"data row1 col7\" >-0.1528</td>\n",
       "    </tr>\n",
       "    <tr>\n",
       "      <th id=\"T_2c947_level0_row2\" class=\"row_heading level0 row2\" >2</th>\n",
       "      <td id=\"T_2c947_row2_col0\" class=\"data row2 col0\" >2023-02-24 00:00</td>\n",
       "      <td id=\"T_2c947_row2_col1\" class=\"data row2 col1\" >0.8234</td>\n",
       "      <td id=\"T_2c947_row2_col2\" class=\"data row2 col2\" >0.6177</td>\n",
       "      <td id=\"T_2c947_row2_col3\" class=\"data row2 col3\" >500.7262</td>\n",
       "      <td id=\"T_2c947_row2_col4\" class=\"data row2 col4\" >596.2277</td>\n",
       "      <td id=\"T_2c947_row2_col5\" class=\"data row2 col5\" >0.2982</td>\n",
       "      <td id=\"T_2c947_row2_col6\" class=\"data row2 col6\" >0.3551</td>\n",
       "      <td id=\"T_2c947_row2_col7\" class=\"data row2 col7\" >-2.0383</td>\n",
       "    </tr>\n",
       "    <tr>\n",
       "      <th id=\"T_2c947_level0_row3\" class=\"row_heading level0 row3\" >3</th>\n",
       "      <td id=\"T_2c947_row3_col0\" class=\"data row3 col0\" >2023-02-25 00:00</td>\n",
       "      <td id=\"T_2c947_row3_col1\" class=\"data row3 col1\" >0.5902</td>\n",
       "      <td id=\"T_2c947_row3_col2\" class=\"data row3 col2\" >0.4189</td>\n",
       "      <td id=\"T_2c947_row3_col3\" class=\"data row3 col3\" >358.5363</td>\n",
       "      <td id=\"T_2c947_row3_col4\" class=\"data row3 col4\" >403.9753</td>\n",
       "      <td id=\"T_2c947_row3_col5\" class=\"data row3 col5\" >0.2627</td>\n",
       "      <td id=\"T_2c947_row3_col6\" class=\"data row3 col6\" >0.2269</td>\n",
       "      <td id=\"T_2c947_row3_col7\" class=\"data row3 col7\" >-0.1718</td>\n",
       "    </tr>\n",
       "    <tr>\n",
       "      <th id=\"T_2c947_level0_row4\" class=\"row_heading level0 row4\" >4</th>\n",
       "      <td id=\"T_2c947_row4_col0\" class=\"data row4 col0\" >2023-02-26 00:00</td>\n",
       "      <td id=\"T_2c947_row4_col1\" class=\"data row4 col1\" >0.4236</td>\n",
       "      <td id=\"T_2c947_row4_col2\" class=\"data row4 col2\" >0.3248</td>\n",
       "      <td id=\"T_2c947_row4_col3\" class=\"data row4 col3\" >257.1432</td>\n",
       "      <td id=\"T_2c947_row4_col4\" class=\"data row4 col4\" >312.9694</td>\n",
       "      <td id=\"T_2c947_row4_col5\" class=\"data row4 col5\" >0.9216</td>\n",
       "      <td id=\"T_2c947_row4_col6\" class=\"data row4 col6\" >0.3616</td>\n",
       "      <td id=\"T_2c947_row4_col7\" class=\"data row4 col7\" >0.7277</td>\n",
       "    </tr>\n",
       "    <tr>\n",
       "      <th id=\"T_2c947_level0_row5\" class=\"row_heading level0 row5\" >Mean</th>\n",
       "      <td id=\"T_2c947_row5_col0\" class=\"data row5 col0\" >NaT</td>\n",
       "      <td id=\"T_2c947_row5_col1\" class=\"data row5 col1\" >0.5972</td>\n",
       "      <td id=\"T_2c947_row5_col2\" class=\"data row5 col2\" >0.4543</td>\n",
       "      <td id=\"T_2c947_row5_col3\" class=\"data row5 col3\" >363.2581</td>\n",
       "      <td id=\"T_2c947_row5_col4\" class=\"data row5 col4\" >438.5874</td>\n",
       "      <td id=\"T_2c947_row5_col5\" class=\"data row5 col5\" >0.3726</td>\n",
       "      <td id=\"T_2c947_row5_col6\" class=\"data row5 col6\" >0.2729</td>\n",
       "      <td id=\"T_2c947_row5_col7\" class=\"data row5 col7\" >-1.4395</td>\n",
       "    </tr>\n",
       "    <tr>\n",
       "      <th id=\"T_2c947_level0_row6\" class=\"row_heading level0 row6\" >SD</th>\n",
       "      <td id=\"T_2c947_row6_col0\" class=\"data row6 col0\" >NaT</td>\n",
       "      <td id=\"T_2c947_row6_col1\" class=\"data row6 col1\" >0.1289</td>\n",
       "      <td id=\"T_2c947_row6_col2\" class=\"data row6 col2\" >0.0966</td>\n",
       "      <td id=\"T_2c947_row6_col3\" class=\"data row6 col3\" >78.4887</td>\n",
       "      <td id=\"T_2c947_row6_col4\" class=\"data row6 col4\" >93.4134</td>\n",
       "      <td id=\"T_2c947_row6_col5\" class=\"data row6 col5\" >0.2777</td>\n",
       "      <td id=\"T_2c947_row6_col6\" class=\"data row6 col6\" >0.0702</td>\n",
       "      <td id=\"T_2c947_row6_col7\" class=\"data row6 col7\" >2.2502</td>\n",
       "    </tr>\n",
       "  </tbody>\n",
       "</table>\n"
      ],
      "text/plain": [
       "<pandas.io.formats.style.Styler at 0x1886de2bf10>"
      ]
     },
     "metadata": {},
     "output_type": "display_data"
    },
    {
     "data": {
      "text/html": [],
      "text/plain": [
       "<IPython.core.display.HTML object>"
      ]
     },
     "metadata": {},
     "output_type": "display_data"
    },
    {
     "name": "stdout",
     "output_type": "stream",
     "text": [
      "Fitting 5 folds for each of 10 candidates, totalling 50 fits\n"
     ]
    },
    {
     "name": "stderr",
     "output_type": "stream",
     "text": [
      "[Parallel(n_jobs=-1)]: Using backend LokyBackend with 12 concurrent workers.\n",
      "[Parallel(n_jobs=-1)]: Done  26 tasks      | elapsed:   20.7s\n",
      "[Parallel(n_jobs=-1)]: Done  50 out of  50 | elapsed:  1.8min finished\n"
     ]
    }
   ],
   "source": [
    "# Tunando o modelo\n",
    "tuned_best = tune_model(best, fold=5, optimize='RMSE', choose_better=True)"
   ]
  },
  {
   "cell_type": "code",
   "execution_count": 97,
   "metadata": {},
   "outputs": [],
   "source": [
    "# Treine o modelo selecionado\n",
    "model = finalize_model(tuned_best)"
   ]
  },
  {
   "cell_type": "code",
   "execution_count": 98,
   "metadata": {},
   "outputs": [],
   "source": [
    "# Gerando dados de previsão para 24 horas no futuro\n",
    "future_data = df_forecast.drop(target, axis=1)"
   ]
  },
  {
   "cell_type": "code",
   "execution_count": 99,
   "metadata": {},
   "outputs": [],
   "source": [
    "# Faça previsões para os próximos 24 passos de tempo\n",
    "future = 24\n",
    "forecast = predict_model(model, X=future_data, fh=future)"
   ]
  },
  {
   "cell_type": "code",
   "execution_count": 100,
   "metadata": {},
   "outputs": [],
   "source": [
    "# Insert 'y_pred' column into df_forecast\n",
    "df_forecast['y_pred'] = forecast['y_pred'].values"
   ]
  },
  {
   "cell_type": "code",
   "execution_count": 101,
   "metadata": {},
   "outputs": [
    {
     "data": {
      "application/vnd.plotly.v1+json": {
       "config": {
        "plotlyServerURL": "https://plot.ly"
       },
       "data": [
        {
         "hovertemplate": "variable=kVA fornecido<br>Timestamp=%{x}<br>value=%{y}<extra></extra>",
         "legendgroup": "kVA fornecido",
         "line": {
          "color": "#636efa",
          "dash": "solid"
         },
         "marker": {
          "symbol": "circle"
         },
         "mode": "lines",
         "name": "kVA fornecido",
         "orientation": "v",
         "showlegend": true,
         "type": "scatter",
         "x": [
          "2023-02-28T01:00:00",
          "2023-02-28T02:00:00",
          "2023-02-28T03:00:00",
          "2023-02-28T04:00:00",
          "2023-02-28T05:00:00",
          "2023-02-28T06:00:00",
          "2023-02-28T07:00:00",
          "2023-02-28T08:00:00",
          "2023-02-28T09:00:00",
          "2023-02-28T10:00:00",
          "2023-02-28T11:00:00",
          "2023-02-28T12:00:00",
          "2023-02-28T13:00:00",
          "2023-02-28T14:00:00",
          "2023-02-28T15:00:00",
          "2023-02-28T16:00:00",
          "2023-02-28T17:00:00",
          "2023-02-28T18:00:00",
          "2023-02-28T19:00:00",
          "2023-02-28T20:00:00",
          "2023-02-28T21:00:00",
          "2023-02-28T22:00:00",
          "2023-02-28T23:00:00",
          "2023-03-01T00:00:00"
         ],
         "xaxis": "x",
         "y": [
          2002.976381714445,
          3703.3857564413615,
          3577.6060071477696,
          3396.2682593607237,
          3325.188852108236,
          2125.8938574400845,
          2371.471586694199,
          2944.1449105141846,
          2654.026641785833,
          2654.607175667798,
          2587.4620749816404,
          3378.975141081843,
          3202.0279894127502,
          3366.368771247293,
          3385.260752608675,
          3070.4527861896486,
          2607.4834624717823,
          2309.1212471719327,
          2506.0891274738487,
          2514.99027079667,
          2600.296643559279,
          2638.3153475484887,
          2569.5896325280883,
          2443.0889090657342
         ],
         "yaxis": "y"
        },
        {
         "hovertemplate": "variable=y_pred<br>Timestamp=%{x}<br>value=%{y}<extra></extra>",
         "legendgroup": "y_pred",
         "line": {
          "color": "#EF553B",
          "dash": "solid"
         },
         "marker": {
          "symbol": "circle"
         },
         "mode": "lines",
         "name": "y_pred",
         "orientation": "v",
         "showlegend": true,
         "type": "scatter",
         "x": [
          "2023-02-28T01:00:00",
          "2023-02-28T02:00:00",
          "2023-02-28T03:00:00",
          "2023-02-28T04:00:00",
          "2023-02-28T05:00:00",
          "2023-02-28T06:00:00",
          "2023-02-28T07:00:00",
          "2023-02-28T08:00:00",
          "2023-02-28T09:00:00",
          "2023-02-28T10:00:00",
          "2023-02-28T11:00:00",
          "2023-02-28T12:00:00",
          "2023-02-28T13:00:00",
          "2023-02-28T14:00:00",
          "2023-02-28T15:00:00",
          "2023-02-28T16:00:00",
          "2023-02-28T17:00:00",
          "2023-02-28T18:00:00",
          "2023-02-28T19:00:00",
          "2023-02-28T20:00:00",
          "2023-02-28T21:00:00",
          "2023-02-28T22:00:00",
          "2023-02-28T23:00:00",
          "2023-03-01T00:00:00"
         ],
         "xaxis": "x",
         "y": [
          1974.7524,
          1801.6275,
          1699.1906,
          1571.2007,
          1480.4616,
          1238.722,
          1137.1576,
          1257.2138,
          1062.1755,
          1027.4032,
          943.3005,
          823.6002,
          1213.3485,
          1842.5762,
          2355.0335,
          2745.031,
          2793.1076,
          2669.1972,
          2828.8661,
          2856.3509,
          3102.3968,
          3287.7899,
          3303.6831,
          3140.7634
         ],
         "yaxis": "y"
        }
       ],
       "layout": {
        "legend": {
         "title": {
          "text": "variable"
         },
         "tracegroupgap": 0
        },
        "template": {
         "data": {
          "bar": [
           {
            "error_x": {
             "color": "#2a3f5f"
            },
            "error_y": {
             "color": "#2a3f5f"
            },
            "marker": {
             "line": {
              "color": "#E5ECF6",
              "width": 0.5
             },
             "pattern": {
              "fillmode": "overlay",
              "size": 10,
              "solidity": 0.2
             }
            },
            "type": "bar"
           }
          ],
          "barpolar": [
           {
            "marker": {
             "line": {
              "color": "#E5ECF6",
              "width": 0.5
             },
             "pattern": {
              "fillmode": "overlay",
              "size": 10,
              "solidity": 0.2
             }
            },
            "type": "barpolar"
           }
          ],
          "carpet": [
           {
            "aaxis": {
             "endlinecolor": "#2a3f5f",
             "gridcolor": "white",
             "linecolor": "white",
             "minorgridcolor": "white",
             "startlinecolor": "#2a3f5f"
            },
            "baxis": {
             "endlinecolor": "#2a3f5f",
             "gridcolor": "white",
             "linecolor": "white",
             "minorgridcolor": "white",
             "startlinecolor": "#2a3f5f"
            },
            "type": "carpet"
           }
          ],
          "choropleth": [
           {
            "colorbar": {
             "outlinewidth": 0,
             "ticks": ""
            },
            "type": "choropleth"
           }
          ],
          "contour": [
           {
            "colorbar": {
             "outlinewidth": 0,
             "ticks": ""
            },
            "colorscale": [
             [
              0,
              "#0d0887"
             ],
             [
              0.1111111111111111,
              "#46039f"
             ],
             [
              0.2222222222222222,
              "#7201a8"
             ],
             [
              0.3333333333333333,
              "#9c179e"
             ],
             [
              0.4444444444444444,
              "#bd3786"
             ],
             [
              0.5555555555555556,
              "#d8576b"
             ],
             [
              0.6666666666666666,
              "#ed7953"
             ],
             [
              0.7777777777777778,
              "#fb9f3a"
             ],
             [
              0.8888888888888888,
              "#fdca26"
             ],
             [
              1,
              "#f0f921"
             ]
            ],
            "type": "contour"
           }
          ],
          "contourcarpet": [
           {
            "colorbar": {
             "outlinewidth": 0,
             "ticks": ""
            },
            "type": "contourcarpet"
           }
          ],
          "heatmap": [
           {
            "colorbar": {
             "outlinewidth": 0,
             "ticks": ""
            },
            "colorscale": [
             [
              0,
              "#0d0887"
             ],
             [
              0.1111111111111111,
              "#46039f"
             ],
             [
              0.2222222222222222,
              "#7201a8"
             ],
             [
              0.3333333333333333,
              "#9c179e"
             ],
             [
              0.4444444444444444,
              "#bd3786"
             ],
             [
              0.5555555555555556,
              "#d8576b"
             ],
             [
              0.6666666666666666,
              "#ed7953"
             ],
             [
              0.7777777777777778,
              "#fb9f3a"
             ],
             [
              0.8888888888888888,
              "#fdca26"
             ],
             [
              1,
              "#f0f921"
             ]
            ],
            "type": "heatmap"
           }
          ],
          "heatmapgl": [
           {
            "colorbar": {
             "outlinewidth": 0,
             "ticks": ""
            },
            "colorscale": [
             [
              0,
              "#0d0887"
             ],
             [
              0.1111111111111111,
              "#46039f"
             ],
             [
              0.2222222222222222,
              "#7201a8"
             ],
             [
              0.3333333333333333,
              "#9c179e"
             ],
             [
              0.4444444444444444,
              "#bd3786"
             ],
             [
              0.5555555555555556,
              "#d8576b"
             ],
             [
              0.6666666666666666,
              "#ed7953"
             ],
             [
              0.7777777777777778,
              "#fb9f3a"
             ],
             [
              0.8888888888888888,
              "#fdca26"
             ],
             [
              1,
              "#f0f921"
             ]
            ],
            "type": "heatmapgl"
           }
          ],
          "histogram": [
           {
            "marker": {
             "pattern": {
              "fillmode": "overlay",
              "size": 10,
              "solidity": 0.2
             }
            },
            "type": "histogram"
           }
          ],
          "histogram2d": [
           {
            "colorbar": {
             "outlinewidth": 0,
             "ticks": ""
            },
            "colorscale": [
             [
              0,
              "#0d0887"
             ],
             [
              0.1111111111111111,
              "#46039f"
             ],
             [
              0.2222222222222222,
              "#7201a8"
             ],
             [
              0.3333333333333333,
              "#9c179e"
             ],
             [
              0.4444444444444444,
              "#bd3786"
             ],
             [
              0.5555555555555556,
              "#d8576b"
             ],
             [
              0.6666666666666666,
              "#ed7953"
             ],
             [
              0.7777777777777778,
              "#fb9f3a"
             ],
             [
              0.8888888888888888,
              "#fdca26"
             ],
             [
              1,
              "#f0f921"
             ]
            ],
            "type": "histogram2d"
           }
          ],
          "histogram2dcontour": [
           {
            "colorbar": {
             "outlinewidth": 0,
             "ticks": ""
            },
            "colorscale": [
             [
              0,
              "#0d0887"
             ],
             [
              0.1111111111111111,
              "#46039f"
             ],
             [
              0.2222222222222222,
              "#7201a8"
             ],
             [
              0.3333333333333333,
              "#9c179e"
             ],
             [
              0.4444444444444444,
              "#bd3786"
             ],
             [
              0.5555555555555556,
              "#d8576b"
             ],
             [
              0.6666666666666666,
              "#ed7953"
             ],
             [
              0.7777777777777778,
              "#fb9f3a"
             ],
             [
              0.8888888888888888,
              "#fdca26"
             ],
             [
              1,
              "#f0f921"
             ]
            ],
            "type": "histogram2dcontour"
           }
          ],
          "mesh3d": [
           {
            "colorbar": {
             "outlinewidth": 0,
             "ticks": ""
            },
            "type": "mesh3d"
           }
          ],
          "parcoords": [
           {
            "line": {
             "colorbar": {
              "outlinewidth": 0,
              "ticks": ""
             }
            },
            "type": "parcoords"
           }
          ],
          "pie": [
           {
            "automargin": true,
            "type": "pie"
           }
          ],
          "scatter": [
           {
            "fillpattern": {
             "fillmode": "overlay",
             "size": 10,
             "solidity": 0.2
            },
            "type": "scatter"
           }
          ],
          "scatter3d": [
           {
            "line": {
             "colorbar": {
              "outlinewidth": 0,
              "ticks": ""
             }
            },
            "marker": {
             "colorbar": {
              "outlinewidth": 0,
              "ticks": ""
             }
            },
            "type": "scatter3d"
           }
          ],
          "scattercarpet": [
           {
            "marker": {
             "colorbar": {
              "outlinewidth": 0,
              "ticks": ""
             }
            },
            "type": "scattercarpet"
           }
          ],
          "scattergeo": [
           {
            "marker": {
             "colorbar": {
              "outlinewidth": 0,
              "ticks": ""
             }
            },
            "type": "scattergeo"
           }
          ],
          "scattergl": [
           {
            "marker": {
             "colorbar": {
              "outlinewidth": 0,
              "ticks": ""
             }
            },
            "type": "scattergl"
           }
          ],
          "scattermapbox": [
           {
            "marker": {
             "colorbar": {
              "outlinewidth": 0,
              "ticks": ""
             }
            },
            "type": "scattermapbox"
           }
          ],
          "scatterpolar": [
           {
            "marker": {
             "colorbar": {
              "outlinewidth": 0,
              "ticks": ""
             }
            },
            "type": "scatterpolar"
           }
          ],
          "scatterpolargl": [
           {
            "marker": {
             "colorbar": {
              "outlinewidth": 0,
              "ticks": ""
             }
            },
            "type": "scatterpolargl"
           }
          ],
          "scatterternary": [
           {
            "marker": {
             "colorbar": {
              "outlinewidth": 0,
              "ticks": ""
             }
            },
            "type": "scatterternary"
           }
          ],
          "surface": [
           {
            "colorbar": {
             "outlinewidth": 0,
             "ticks": ""
            },
            "colorscale": [
             [
              0,
              "#0d0887"
             ],
             [
              0.1111111111111111,
              "#46039f"
             ],
             [
              0.2222222222222222,
              "#7201a8"
             ],
             [
              0.3333333333333333,
              "#9c179e"
             ],
             [
              0.4444444444444444,
              "#bd3786"
             ],
             [
              0.5555555555555556,
              "#d8576b"
             ],
             [
              0.6666666666666666,
              "#ed7953"
             ],
             [
              0.7777777777777778,
              "#fb9f3a"
             ],
             [
              0.8888888888888888,
              "#fdca26"
             ],
             [
              1,
              "#f0f921"
             ]
            ],
            "type": "surface"
           }
          ],
          "table": [
           {
            "cells": {
             "fill": {
              "color": "#EBF0F8"
             },
             "line": {
              "color": "white"
             }
            },
            "header": {
             "fill": {
              "color": "#C8D4E3"
             },
             "line": {
              "color": "white"
             }
            },
            "type": "table"
           }
          ]
         },
         "layout": {
          "annotationdefaults": {
           "arrowcolor": "#2a3f5f",
           "arrowhead": 0,
           "arrowwidth": 1
          },
          "autotypenumbers": "strict",
          "coloraxis": {
           "colorbar": {
            "outlinewidth": 0,
            "ticks": ""
           }
          },
          "colorscale": {
           "diverging": [
            [
             0,
             "#8e0152"
            ],
            [
             0.1,
             "#c51b7d"
            ],
            [
             0.2,
             "#de77ae"
            ],
            [
             0.3,
             "#f1b6da"
            ],
            [
             0.4,
             "#fde0ef"
            ],
            [
             0.5,
             "#f7f7f7"
            ],
            [
             0.6,
             "#e6f5d0"
            ],
            [
             0.7,
             "#b8e186"
            ],
            [
             0.8,
             "#7fbc41"
            ],
            [
             0.9,
             "#4d9221"
            ],
            [
             1,
             "#276419"
            ]
           ],
           "sequential": [
            [
             0,
             "#0d0887"
            ],
            [
             0.1111111111111111,
             "#46039f"
            ],
            [
             0.2222222222222222,
             "#7201a8"
            ],
            [
             0.3333333333333333,
             "#9c179e"
            ],
            [
             0.4444444444444444,
             "#bd3786"
            ],
            [
             0.5555555555555556,
             "#d8576b"
            ],
            [
             0.6666666666666666,
             "#ed7953"
            ],
            [
             0.7777777777777778,
             "#fb9f3a"
            ],
            [
             0.8888888888888888,
             "#fdca26"
            ],
            [
             1,
             "#f0f921"
            ]
           ],
           "sequentialminus": [
            [
             0,
             "#0d0887"
            ],
            [
             0.1111111111111111,
             "#46039f"
            ],
            [
             0.2222222222222222,
             "#7201a8"
            ],
            [
             0.3333333333333333,
             "#9c179e"
            ],
            [
             0.4444444444444444,
             "#bd3786"
            ],
            [
             0.5555555555555556,
             "#d8576b"
            ],
            [
             0.6666666666666666,
             "#ed7953"
            ],
            [
             0.7777777777777778,
             "#fb9f3a"
            ],
            [
             0.8888888888888888,
             "#fdca26"
            ],
            [
             1,
             "#f0f921"
            ]
           ]
          },
          "colorway": [
           "#636efa",
           "#EF553B",
           "#00cc96",
           "#ab63fa",
           "#FFA15A",
           "#19d3f3",
           "#FF6692",
           "#B6E880",
           "#FF97FF",
           "#FECB52"
          ],
          "font": {
           "color": "#2a3f5f"
          },
          "geo": {
           "bgcolor": "white",
           "lakecolor": "white",
           "landcolor": "#E5ECF6",
           "showlakes": true,
           "showland": true,
           "subunitcolor": "white"
          },
          "hoverlabel": {
           "align": "left"
          },
          "hovermode": "closest",
          "mapbox": {
           "style": "light"
          },
          "paper_bgcolor": "white",
          "plot_bgcolor": "#E5ECF6",
          "polar": {
           "angularaxis": {
            "gridcolor": "white",
            "linecolor": "white",
            "ticks": ""
           },
           "bgcolor": "#E5ECF6",
           "radialaxis": {
            "gridcolor": "white",
            "linecolor": "white",
            "ticks": ""
           }
          },
          "scene": {
           "xaxis": {
            "backgroundcolor": "#E5ECF6",
            "gridcolor": "white",
            "gridwidth": 2,
            "linecolor": "white",
            "showbackground": true,
            "ticks": "",
            "zerolinecolor": "white"
           },
           "yaxis": {
            "backgroundcolor": "#E5ECF6",
            "gridcolor": "white",
            "gridwidth": 2,
            "linecolor": "white",
            "showbackground": true,
            "ticks": "",
            "zerolinecolor": "white"
           },
           "zaxis": {
            "backgroundcolor": "#E5ECF6",
            "gridcolor": "white",
            "gridwidth": 2,
            "linecolor": "white",
            "showbackground": true,
            "ticks": "",
            "zerolinecolor": "white"
           }
          },
          "shapedefaults": {
           "line": {
            "color": "#2a3f5f"
           }
          },
          "ternary": {
           "aaxis": {
            "gridcolor": "white",
            "linecolor": "white",
            "ticks": ""
           },
           "baxis": {
            "gridcolor": "white",
            "linecolor": "white",
            "ticks": ""
           },
           "bgcolor": "#E5ECF6",
           "caxis": {
            "gridcolor": "white",
            "linecolor": "white",
            "ticks": ""
           }
          },
          "title": {
           "x": 0.05
          },
          "xaxis": {
           "automargin": true,
           "gridcolor": "white",
           "linecolor": "white",
           "ticks": "",
           "title": {
            "standoff": 15
           },
           "zerolinecolor": "white",
           "zerolinewidth": 2
          },
          "yaxis": {
           "automargin": true,
           "gridcolor": "white",
           "linecolor": "white",
           "ticks": "",
           "title": {
            "standoff": 15
           },
           "zerolinecolor": "white",
           "zerolinewidth": 2
          }
         }
        },
        "title": {
         "text": "Forecast for next 24 hours"
        },
        "xaxis": {
         "anchor": "y",
         "domain": [
          0,
          1
         ],
         "title": {
          "text": "Timestamp"
         }
        },
        "yaxis": {
         "anchor": "x",
         "domain": [
          0,
          1
         ],
         "title": {
          "text": "value"
         }
        }
       }
      }
     },
     "metadata": {},
     "output_type": "display_data"
    }
   ],
   "source": [
    "#plot using plotly\n",
    "fig = px.line(df_forecast, x=df_forecast.index, y=[target, 'y_pred'], \n",
    "              title='Forecast for next 24 hours')\n",
    "fig.show()"
   ]
  }
 ],
 "metadata": {
  "kernelspec": {
   "display_name": "TCC_env",
   "language": "python",
   "name": "python3"
  },
  "language_info": {
   "codemirror_mode": {
    "name": "ipython",
    "version": 3
   },
   "file_extension": ".py",
   "mimetype": "text/x-python",
   "name": "python",
   "nbconvert_exporter": "python",
   "pygments_lexer": "ipython3",
   "version": "3.10.11"
  }
 },
 "nbformat": 4,
 "nbformat_minor": 2
}
