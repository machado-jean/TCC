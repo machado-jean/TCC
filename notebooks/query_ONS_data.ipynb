{
 "cells": [
  {
   "cell_type": "markdown",
   "id": "48367734",
   "metadata": {},
   "source": [
    "# Aquisição de dados no portal da ONS Dados Aberto"
   ]
  },
  {
   "cell_type": "markdown",
   "id": "0ef09323",
   "metadata": {},
   "source": []
  }
 ],
 "metadata": {
  "language_info": {
   "name": "python"
  }
 },
 "nbformat": 4,
 "nbformat_minor": 5
}
